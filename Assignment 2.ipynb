{
 "cells": [
  {
   "cell_type": "markdown",
   "id": "49571bf8",
   "metadata": {},
   "source": [
    "1.What are the two values of the Boolean data type? How do you write them?\n",
    " Ans\tThere are two values in Boolean data type. With capital T and F\n",
    "         True,\n",
    "         False."
   ]
  },
  {
   "cell_type": "code",
   "execution_count": 1,
   "id": "c533cb1b",
   "metadata": {},
   "outputs": [
    {
     "name": "stdout",
     "output_type": "stream",
     "text": [
      "True False\n"
     ]
    }
   ],
   "source": [
    "a,b=True,False\n",
    "print(a,b)"
   ]
  },
  {
   "cell_type": "markdown",
   "id": "7f66246b",
   "metadata": {},
   "source": [
    "#### 2.    What are the three different types of Boolean operators?"
   ]
  },
  {
   "cell_type": "markdown",
   "id": "269d2c68",
   "metadata": {},
   "source": [
    "Ans:-  AND, OR, NOT are three types of Boolean operators."
   ]
  },
  {
   "cell_type": "markdown",
   "id": "e6e06af0",
   "metadata": {},
   "source": [
    "#### 3. Make a list of each Boolean operator's truth tables (i.e. every possible combination of Boolean values for the operator and what it evaluate )."
   ]
  },
  {
   "cell_type": "markdown",
   "id": "0f5ac09f",
   "metadata": {},
   "source": [
    "Ans:- True and True is True.\n",
    "\n",
    "True and False is False.\n",
    "\n",
    "False and True is False.\n",
    "\n",
    "False and False is False.\n",
    "\n",
    "True or True is True.\n",
    "\n",
    "True or False is True.\n",
    "\n",
    "False or True is True.\n",
    "\n",
    "False or False is False.\n",
    "\n",
    "not True is False.\n",
    "\n",
    "not False is True."
   ]
  },
  {
   "cell_type": "raw",
   "id": "a23adc86",
   "metadata": {},
   "source": [
    "for AND\n",
    "A|B|output\n",
    "0 0 0\n",
    "0 1 0\n",
    "1 0 0\n",
    "1 1 1\n",
    "\n",
    "for OR\n",
    "A|B|output\n",
    "0 0 0\n",
    "0 1 1\n",
    "1 0 1\n",
    "1 1 1\n",
    "\n",
    "for NOT\n",
    "A|output\n",
    "0 1\n",
    "1 0\n",
    "\n",
    "Where 0 is for False, 1 is for True."
   ]
  },
  {
   "cell_type": "markdown",
   "id": "6c204418",
   "metadata": {},
   "source": [
    "### 4. What are the values of the following expressions?"
   ]
  },
  {
   "cell_type": "code",
   "execution_count": 2,
   "id": "bdd543bc",
   "metadata": {},
   "outputs": [
    {
     "name": "stdout",
     "output_type": "stream",
     "text": [
      "False\n",
      "False\n",
      "True\n",
      "False\n",
      "False\n",
      "True\n"
     ]
    }
   ],
   "source": [
    "a= (5 > 4) and (3 == 5)\n",
    "b= not (5 > 4)\n",
    "c= (5 > 4) or (3 == 5)\n",
    "d= not ((5 > 4) or (3 == 5))\n",
    "e= (True and True) and (True == False)\n",
    "f= (not False) or (not True)\n",
    "print(a)\n",
    "print(b)\n",
    "print(c)\n",
    "print(d)\n",
    "print(e)\n",
    "print(f)"
   ]
  },
  {
   "cell_type": "markdown",
   "id": "1dcbb5b1",
   "metadata": {},
   "source": [
    "### 5. What are the six comparison operators?"
   ]
  },
  {
   "cell_type": "markdown",
   "id": "ce48181d",
   "metadata": {},
   "source": [
    "==, !=, <, >, <=, and >="
   ]
  },
  {
   "cell_type": "markdown",
   "id": "3ee97e16",
   "metadata": {},
   "source": [
    "#### 6. How do you tell the difference between the equal to and assignment operators?Describe a condition and when you would use one."
   ]
  },
  {
   "cell_type": "markdown",
   "id": "e877ca83",
   "metadata": {},
   "source": [
    "== is the equal to operator that compares two values and evaluates to a Boolean, while = is the assignment operator that stores a value in a variable."
   ]
  },
  {
   "cell_type": "code",
   "execution_count": 3,
   "id": "b0e5cf93",
   "metadata": {},
   "outputs": [
    {
     "name": "stdout",
     "output_type": "stream",
     "text": [
      "False\n",
      "15\n"
     ]
    }
   ],
   "source": [
    "# we use == sign for\n",
    "if 15==3:\n",
    "    print(\"True\")\n",
    "else:\n",
    "    print(\"False\")\n",
    "    \n",
    "a=15 # assigning a value in 'a' variable.\n",
    "print(a)"
   ]
  },
  {
   "cell_type": "code",
   "execution_count": 4,
   "id": "6dceb36b",
   "metadata": {},
   "outputs": [
    {
     "name": "stdout",
     "output_type": "stream",
     "text": [
      "ham\n",
      "spam\n",
      "spam\n"
     ]
    }
   ],
   "source": [
    "#7. Identify the three blocks in this code:\n",
    "spam = 0\n",
    "if spam == 10:\n",
    "    print('eggs') #This is Block 1\n",
    "if spam > 5:\n",
    "    print('bacon') #This is Block 2\n",
    "else:\n",
    "    print('ham')\n",
    "    print('spam')\n",
    "    print('spam') #This is Block 3\n"
   ]
  },
  {
   "cell_type": "markdown",
   "id": "8384fe0f",
   "metadata": {},
   "source": [
    "8. Write code that prints Hello if 1 is stored in spam, prints Howdy if 2 is stored in spam, and prints Greetings! if anything else is stored in spam.\n"
   ]
  },
  {
   "cell_type": "code",
   "execution_count": 5,
   "id": "1a14599f",
   "metadata": {},
   "outputs": [
    {
     "name": "stdout",
     "output_type": "stream",
     "text": [
      "Give a value to spam: 2\n",
      "Howdy\n"
     ]
    }
   ],
   "source": [
    "spam = int(input('Give a value to spam: '))\n",
    "if spam == 1 :\n",
    "    print('Hello')\n",
    "    \n",
    "elif spam == 2 :\n",
    "    print('Howdy')\n",
    "\n",
    "else: \n",
    "    print('Greentings!')"
   ]
  },
  {
   "cell_type": "markdown",
   "id": "2a74f373",
   "metadata": {},
   "source": [
    "#### 9.If your programme is stuck in an endless loop, what keys you’ll press?"
   ]
  },
  {
   "cell_type": "markdown",
   "id": "4676ce82",
   "metadata": {},
   "source": [
    "it need a external intervention. so press [ctrl+c]."
   ]
  },
  {
   "cell_type": "markdown",
   "id": "0fda7e37",
   "metadata": {},
   "source": [
    "#### 10. How can you tell the difference between break and continue?"
   ]
  },
  {
   "cell_type": "markdown",
   "id": "ad438db0",
   "metadata": {},
   "source": [
    "break is a statement which stops the loop when condition met.\n",
    "continue is a statement which continue the loop when condition met."
   ]
  },
  {
   "cell_type": "code",
   "execution_count": 6,
   "id": "3cb08073",
   "metadata": {},
   "outputs": [
    {
     "name": "stdout",
     "output_type": "stream",
     "text": [
      "For Break\n",
      "0\n",
      "1\n",
      "2\n",
      "3\n",
      "4\n",
      "5\n",
      "breaked\n",
      "16\n",
      "17\n",
      "18\n",
      "19\n"
     ]
    }
   ],
   "source": [
    "print('For Break')\n",
    "for i in range(15):\n",
    "    if i==6:\n",
    "        break\n",
    "    print(i)\n",
    "    \n",
    "print('breaked')\n",
    "\n",
    "for i in range(10,20):\n",
    "    if i<16:\n",
    "        continue\n",
    "    print(i)\n",
    "    "
   ]
  },
  {
   "cell_type": "markdown",
   "id": "68ba7128",
   "metadata": {},
   "source": [
    "### 11. In a for loop, what is the difference between range(10), range(0, 10), and range(0, 10, 1)?"
   ]
  },
  {
   "cell_type": "code",
   "execution_count": 7,
   "id": "7c7243c2",
   "metadata": {},
   "outputs": [
    {
     "name": "stdout",
     "output_type": "stream",
     "text": [
      "0\n",
      "1\n",
      "2\n",
      "3\n",
      "4\n",
      "5\n",
      "6\n",
      "7\n",
      "8\n",
      "9\n",
      "________\n",
      "0\n",
      "1\n",
      "2\n",
      "3\n",
      "4\n",
      "5\n",
      "6\n",
      "7\n",
      "8\n",
      "9\n",
      "_________\n",
      "0\n",
      "1\n",
      "2\n",
      "3\n",
      "4\n",
      "5\n",
      "6\n",
      "7\n",
      "8\n",
      "9\n"
     ]
    }
   ],
   "source": [
    "for i in range(10):\n",
    "    print(i)\n",
    "print('________')\n",
    "for i in range(0,10):\n",
    "    print(i)\n",
    "print('_________')\n",
    "for i in range(0,10,1):\n",
    "    print(i)"
   ]
  },
  {
   "cell_type": "markdown",
   "id": "01ae7dcd",
   "metadata": {},
   "source": [
    "So a we can see there is no difference b/w them. "
   ]
  },
  {
   "cell_type": "markdown",
   "id": "c73173aa",
   "metadata": {},
   "source": [
    "### 12. Write a short program that prints the numbers 1 to 10 using a for loop. Then write an equivalent program that prints the numbers 1 to 10 using a while loop."
   ]
  },
  {
   "cell_type": "code",
   "execution_count": 8,
   "id": "cc243757",
   "metadata": {},
   "outputs": [
    {
     "name": "stdout",
     "output_type": "stream",
     "text": [
      "1\n",
      "2\n",
      "3\n",
      "4\n",
      "5\n",
      "6\n",
      "7\n",
      "8\n",
      "9\n",
      "10\n",
      "___________\n",
      "1\n",
      "2\n",
      "3\n",
      "4\n",
      "5\n",
      "6\n",
      "7\n",
      "8\n",
      "9\n",
      "10\n"
     ]
    }
   ],
   "source": [
    "## with for loop\n",
    "for i in range(1,11):\n",
    "    print(i)\n",
    "print('___________')\n",
    "\n",
    "#with while loop\n",
    "a=1\n",
    "while a<=10:\n",
    "    print(a)\n",
    "    a=a+1"
   ]
  },
  {
   "cell_type": "markdown",
   "id": "23deeb92",
   "metadata": {},
   "source": [
    "### 13. If you had a function named bacon() inside a module named spam, how would you call it after importing spam?\n"
   ]
  },
  {
   "cell_type": "code",
   "execution_count": 1,
   "id": "e9139fd0",
   "metadata": {},
   "outputs": [],
   "source": [
    "class spam:\n",
    "    def bacon():\n",
    "        print('This is a bacon func.')"
   ]
  },
  {
   "cell_type": "code",
   "execution_count": 2,
   "id": "e78e1b08",
   "metadata": {},
   "outputs": [],
   "source": [
    "import spam"
   ]
  },
  {
   "cell_type": "code",
   "execution_count": 5,
   "id": "d8019ff2",
   "metadata": {},
   "outputs": [
    {
     "name": "stdout",
     "output_type": "stream",
     "text": [
      "This is a bacon function\n"
     ]
    }
   ],
   "source": [
    "spam.bacon()"
   ]
  }
 ],
 "metadata": {
  "kernelspec": {
   "display_name": "Python 3 (ipykernel)",
   "language": "python",
   "name": "python3"
  },
  "language_info": {
   "codemirror_mode": {
    "name": "ipython",
    "version": 3
   },
   "file_extension": ".py",
   "mimetype": "text/x-python",
   "name": "python",
   "nbconvert_exporter": "python",
   "pygments_lexer": "ipython3",
   "version": "3.8.10"
  }
 },
 "nbformat": 4,
 "nbformat_minor": 5
}
