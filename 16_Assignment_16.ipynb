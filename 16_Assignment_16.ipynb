{
  "nbformat": 4,
  "nbformat_minor": 0,
  "metadata": {
    "colab": {
      "provenance": []
    },
    "kernelspec": {
      "name": "python3",
      "display_name": "Python 3"
    },
    "language_info": {
      "name": "python"
    }
  },
  "cells": [
    {
      "cell_type": "markdown",
      "source": [
        "\n",
        "###1. Create a list called years_list, starting with the year of your birth, and each year thereafter until the year of your fifth birthday. For example, if you were born in 1980. the list would be years_list = [1980, 1981, 1982, 1983, 1984, 1985].\n"
      ],
      "metadata": {
        "id": "orbA3wwRKFYp"
      }
    },
    {
      "cell_type": "code",
      "source": [
        "years_list = [x+2002 for x in range(6)]"
      ],
      "metadata": {
        "id": "PjwTvqB2MLKc"
      },
      "execution_count": 3,
      "outputs": []
    },
    {
      "cell_type": "code",
      "source": [
        "print(years_list,sep=',')"
      ],
      "metadata": {
        "colab": {
          "base_uri": "https://localhost:8080/"
        },
        "id": "-KvMjJNjNCmu",
        "outputId": "f2debd46-b3ff-41e1-adc3-1768a56252cc"
      },
      "execution_count": 4,
      "outputs": [
        {
          "output_type": "stream",
          "name": "stdout",
          "text": [
            "[2002, 2003, 2004, 2005, 2006, 2007]\n"
          ]
        }
      ]
    },
    {
      "cell_type": "markdown",
      "source": [
        "###2. In which year in years_list was your third birthday? Remember, you were 0 years of age for your first year.\n",
        "\n"
      ],
      "metadata": {
        "id": "rPYJwzCAKyWZ"
      }
    },
    {
      "cell_type": "code",
      "source": [
        "years_list[3]"
      ],
      "metadata": {
        "colab": {
          "base_uri": "https://localhost:8080/"
        },
        "id": "K8TYdrR_Nk5t",
        "outputId": "9bd308aa-6fef-4602-a488-5aae753a0934"
      },
      "execution_count": 5,
      "outputs": [
        {
          "output_type": "execute_result",
          "data": {
            "text/plain": [
              "2005"
            ]
          },
          "metadata": {},
          "execution_count": 5
        }
      ]
    },
    {
      "cell_type": "markdown",
      "source": [
        "###3.In the years list, which year were you the oldest?\n"
      ],
      "metadata": {
        "id": "SpehxakJKz6r"
      }
    },
    {
      "cell_type": "code",
      "source": [
        "max(years_list)"
      ],
      "metadata": {
        "colab": {
          "base_uri": "https://localhost:8080/"
        },
        "id": "Jjsaz8ksPaBV",
        "outputId": "14001e29-4ef9-4a52-8fa8-2f67bfaf4b3f"
      },
      "execution_count": 6,
      "outputs": [
        {
          "output_type": "execute_result",
          "data": {
            "text/plain": [
              "2007"
            ]
          },
          "metadata": {},
          "execution_count": 6
        }
      ]
    },
    {
      "cell_type": "markdown",
      "source": [
        "###4. Make a list called things with these three strings as elements: \"mozzarella\", \"cinderella\", \"salmonella\".\n"
      ],
      "metadata": {
        "id": "APwTKbJXK1OZ"
      }
    },
    {
      "cell_type": "code",
      "source": [
        "things = list([ \"mozzarella\", \"cinderella\", \"salmonella\"])"
      ],
      "metadata": {
        "id": "iIjwN6S7QPu_"
      },
      "execution_count": 7,
      "outputs": []
    },
    {
      "cell_type": "markdown",
      "source": [
        "###5. Capitalize the element in things that refers to a person and then print the list. Did it change the element in the list?\n"
      ],
      "metadata": {
        "id": "dppPhj18K32r"
      }
    },
    {
      "cell_type": "code",
      "source": [
        "for i in things:\n",
        "  print(i.capitalize())\n",
        "\n",
        "things\n",
        "\n",
        "## capitalize() doesnt change the original values"
      ],
      "metadata": {
        "colab": {
          "base_uri": "https://localhost:8080/"
        },
        "id": "2fYNChbIQaQ7",
        "outputId": "35540299-ef6a-4c7e-93ae-7c65be95ae4d"
      },
      "execution_count": 8,
      "outputs": [
        {
          "output_type": "stream",
          "name": "stdout",
          "text": [
            "Mozzarella\n",
            "Cinderella\n",
            "Salmonella\n"
          ]
        },
        {
          "output_type": "execute_result",
          "data": {
            "text/plain": [
              "['mozzarella', 'cinderella', 'salmonella']"
            ]
          },
          "metadata": {},
          "execution_count": 8
        }
      ]
    },
    {
      "cell_type": "markdown",
      "source": [
        "###6. Make a surprise list with the elements \"Groucho,\" \"Chico,\" and \"Harpo.\"\n"
      ],
      "metadata": {
        "id": "1EdvPgyyK6LD"
      }
    },
    {
      "cell_type": "code",
      "source": [
        "surprise_list = list([\"Groucho\", \"Chico\", \"Harpo\"])"
      ],
      "metadata": {
        "id": "_AFFAsoASYym"
      },
      "execution_count": 9,
      "outputs": []
    },
    {
      "cell_type": "markdown",
      "source": [
        "###7. Lowercase the last element of the surprise list, reverse it, and then capitalize it.\n"
      ],
      "metadata": {
        "id": "IJ6YGHWrK7gW"
      }
    },
    {
      "cell_type": "code",
      "source": [
        "surprise_list[-1].lower()"
      ],
      "metadata": {
        "colab": {
          "base_uri": "https://localhost:8080/",
          "height": 36
        },
        "id": "24vyfgx-SojJ",
        "outputId": "d7cd056a-8814-477e-8658-cc695fba9f29"
      },
      "execution_count": 10,
      "outputs": [
        {
          "output_type": "execute_result",
          "data": {
            "text/plain": [
              "'harpo'"
            ],
            "application/vnd.google.colaboratory.intrinsic+json": {
              "type": "string"
            }
          },
          "metadata": {},
          "execution_count": 10
        }
      ]
    },
    {
      "cell_type": "code",
      "source": [
        "surprise_list[-1][::-1]"
      ],
      "metadata": {
        "colab": {
          "base_uri": "https://localhost:8080/",
          "height": 36
        },
        "id": "3nQfkaO4UWm9",
        "outputId": "830fd1eb-3f51-4530-ffff-8ec1e4a1b9b8"
      },
      "execution_count": 11,
      "outputs": [
        {
          "output_type": "execute_result",
          "data": {
            "text/plain": [
              "'opraH'"
            ],
            "application/vnd.google.colaboratory.intrinsic+json": {
              "type": "string"
            }
          },
          "metadata": {},
          "execution_count": 11
        }
      ]
    },
    {
      "cell_type": "code",
      "source": [
        "surprise_list[-1].upper()"
      ],
      "metadata": {
        "colab": {
          "base_uri": "https://localhost:8080/",
          "height": 36
        },
        "id": "h9l2KO1RTWQQ",
        "outputId": "fe5918e1-4473-4494-8d2c-0b17a73c43ad"
      },
      "execution_count": 12,
      "outputs": [
        {
          "output_type": "execute_result",
          "data": {
            "text/plain": [
              "'HARPO'"
            ],
            "application/vnd.google.colaboratory.intrinsic+json": {
              "type": "string"
            }
          },
          "metadata": {},
          "execution_count": 12
        }
      ]
    },
    {
      "cell_type": "markdown",
      "source": [
        "###8. Make an English-to-French dictionary called e2f and print it. Here are your starter words: dog is chien, cat is chat, and walrus is morse.\n"
      ],
      "metadata": {
        "id": "fV7EThh1LGpj"
      }
    },
    {
      "cell_type": "code",
      "source": [
        "e2f:dict = {'dog':'chien', 'cat' : 'chat','walrus' : 'morse'}"
      ],
      "metadata": {
        "id": "5xwZ5v86UgVd"
      },
      "execution_count": 17,
      "outputs": []
    },
    {
      "cell_type": "markdown",
      "source": [
        "###9. Write the French word for walrus in your three-word dictionary e2f.\n"
      ],
      "metadata": {
        "id": "1re5aZ6JLIIv"
      }
    },
    {
      "cell_type": "code",
      "source": [
        "e2f['walrus']"
      ],
      "metadata": {
        "colab": {
          "base_uri": "https://localhost:8080/",
          "height": 36
        },
        "id": "YNqqJHdAU1uE",
        "outputId": "ee03b510-cc4b-4a6d-8698-3b734687676d"
      },
      "execution_count": 18,
      "outputs": [
        {
          "output_type": "execute_result",
          "data": {
            "text/plain": [
              "'morse'"
            ],
            "application/vnd.google.colaboratory.intrinsic+json": {
              "type": "string"
            }
          },
          "metadata": {},
          "execution_count": 18
        }
      ]
    },
    {
      "cell_type": "markdown",
      "source": [
        "###10. Make a French-to-English dictionary called f2e from e2f. Use the items method.\n"
      ],
      "metadata": {
        "id": "yncI-de0LKrq"
      }
    },
    {
      "cell_type": "code",
      "source": [
        "f2e = dict((keys,values) for values,keys in e2f.items())\n",
        "f2e"
      ],
      "metadata": {
        "colab": {
          "base_uri": "https://localhost:8080/"
        },
        "id": "byqXZ0ums3rY",
        "outputId": "239a618a-6f42-4ab8-f07d-d85be4094ba2"
      },
      "execution_count": 20,
      "outputs": [
        {
          "output_type": "execute_result",
          "data": {
            "text/plain": [
              "{'chien': 'dog', 'chat': 'cat', 'morse': 'walrus'}"
            ]
          },
          "metadata": {},
          "execution_count": 20
        }
      ]
    },
    {
      "cell_type": "markdown",
      "source": [
        "###11. Print the English version of the French word chien using f2e.\n",
        "\n"
      ],
      "metadata": {
        "id": "CtMCdEe6LMhK"
      }
    },
    {
      "cell_type": "code",
      "source": [
        "f2e['chien']"
      ],
      "metadata": {
        "colab": {
          "base_uri": "https://localhost:8080/",
          "height": 36
        },
        "id": "ppedGEVAtp_z",
        "outputId": "76abf2ce-f287-4f78-da57-590e5c3b8c18"
      },
      "execution_count": 23,
      "outputs": [
        {
          "output_type": "execute_result",
          "data": {
            "text/plain": [
              "'dog'"
            ],
            "application/vnd.google.colaboratory.intrinsic+json": {
              "type": "string"
            }
          },
          "metadata": {},
          "execution_count": 23
        }
      ]
    },
    {
      "cell_type": "markdown",
      "source": [
        "###12. Make and print a set of English words from the keys in e2f.\n",
        "\n"
      ],
      "metadata": {
        "id": "nJ_XVo6ALOKJ"
      }
    },
    {
      "cell_type": "code",
      "source": [
        "set(e2f.keys())"
      ],
      "metadata": {
        "colab": {
          "base_uri": "https://localhost:8080/"
        },
        "id": "9P46F9vnt9bB",
        "outputId": "4f84bd5a-c3d1-4f9a-f915-5b6fb022ca85"
      },
      "execution_count": 28,
      "outputs": [
        {
          "output_type": "execute_result",
          "data": {
            "text/plain": [
              "{'cat', 'dog', 'walrus'}"
            ]
          },
          "metadata": {},
          "execution_count": 28
        }
      ]
    },
    {
      "cell_type": "markdown",
      "source": [
        " ### 13. Make a multilevel dictionary called life. Use these strings for the topmost keys: 'animals', 'plants', and 'other'. Make the 'animals' key refer to another dictionary with the keys 'cats', 'octopi', and 'emus'. Make the 'cats' key refer to a list of strings with the values 'Henri', 'Grumpy', and 'Lucy'. Make all the other keys refer to empty dictionaries.\n"
      ],
      "metadata": {
        "id": "Jk5Ju0UWLPvx"
      }
    },
    {
      "cell_type": "code",
      "source": [
        "life:dict = {'animals':{ 'cats':['Henri', 'Grumpy', 'Lucy'], 'octopi':{}, 'emus':{}}, 'plants':{}, 'other':{}}"
      ],
      "metadata": {
        "id": "CVY91uzix8Ac"
      },
      "execution_count": 31,
      "outputs": []
    },
    {
      "cell_type": "markdown",
      "source": [
        "###14. Print the top-level keys of life.\n"
      ],
      "metadata": {
        "id": "IN7AyfjtLUMj"
      }
    },
    {
      "cell_type": "code",
      "source": [
        "life.keys()"
      ],
      "metadata": {
        "colab": {
          "base_uri": "https://localhost:8080/"
        },
        "id": "SJ71ufERyp7U",
        "outputId": "c25fb3ca-d467-4743-dd31-f3a6adf6c44c"
      },
      "execution_count": 32,
      "outputs": [
        {
          "output_type": "execute_result",
          "data": {
            "text/plain": [
              "dict_keys(['animals', 'plants', 'other'])"
            ]
          },
          "metadata": {},
          "execution_count": 32
        }
      ]
    },
    {
      "cell_type": "markdown",
      "source": [
        "##15. Print the keys for life['animals'].\n"
      ],
      "metadata": {
        "id": "IdM7cw4wLWRb"
      }
    },
    {
      "cell_type": "code",
      "source": [
        "life['animals'].keys()"
      ],
      "metadata": {
        "colab": {
          "base_uri": "https://localhost:8080/"
        },
        "id": "wizCpLeJyxAn",
        "outputId": "b9f45934-595a-46cf-9dcc-d8ed0bda4fbe"
      },
      "execution_count": 33,
      "outputs": [
        {
          "output_type": "execute_result",
          "data": {
            "text/plain": [
              "dict_keys(['cats', 'octopi', 'emus'])"
            ]
          },
          "metadata": {},
          "execution_count": 33
        }
      ]
    },
    {
      "cell_type": "markdown",
      "source": [
        "###16. Print the values for life['animals']['cats']"
      ],
      "metadata": {
        "id": "4XYNeEiELXii"
      }
    },
    {
      "cell_type": "code",
      "source": [
        "life['animals']['cats']"
      ],
      "metadata": {
        "colab": {
          "base_uri": "https://localhost:8080/"
        },
        "id": "8kmV2c3ay6wO",
        "outputId": "e53a3d95-8a75-4b81-c82b-eeeb70503bb7"
      },
      "execution_count": 34,
      "outputs": [
        {
          "output_type": "execute_result",
          "data": {
            "text/plain": [
              "['Henri', 'Grumpy', 'Lucy']"
            ]
          },
          "metadata": {},
          "execution_count": 34
        }
      ]
    },
    {
      "cell_type": "code",
      "source": [],
      "metadata": {
        "id": "3FiXY0VNy-u3"
      },
      "execution_count": null,
      "outputs": []
    }
  ]
}