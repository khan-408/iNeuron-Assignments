{
  "nbformat": 4,
  "nbformat_minor": 0,
  "metadata": {
    "colab": {
      "provenance": []
    },
    "kernelspec": {
      "name": "python3",
      "display_name": "Python 3"
    },
    "language_info": {
      "name": "python"
    }
  },
  "cells": [
    {
      "cell_type": "markdown",
      "source": [
        "###1. What does RGBA stand for?\n",
        "\n"
      ],
      "metadata": {
        "id": "3Gw8QjuPI38N"
      }
    },
    {
      "cell_type": "markdown",
      "source": [
        "RGBA(Red-Green-Blue-Alpha)\n",
        "The RGB color model is extended in this specification to include “alpha” to allow specification of the opacity of a color."
      ],
      "metadata": {
        "id": "FKUxdVCPnafC"
      }
    },
    {
      "cell_type": "markdown",
      "source": [
        "###  2. From the Pillow module, how do you get the RGBA value of any images?\n"
      ],
      "metadata": {
        "id": "7VxSggzNI7yy"
      }
    },
    {
      "cell_type": "markdown",
      "source": [
        "Ans: ImageColor.getcolor() gives rgba value of any image"
      ],
      "metadata": {
        "id": "irHseNYF12KC"
      }
    },
    {
      "cell_type": "markdown",
      "source": [
        "### 3. What is a box tuple, and how does it work?\n"
      ],
      "metadata": {
        "id": "FQq-sZnKI9xc"
      }
    },
    {
      "cell_type": "markdown",
      "source": [
        "The box.tuple submodule provides read-only access for the tuple userdata type. It allows, for a single tuple: selective retrieval of the field contents, retrieval of information about size, iteration over all the fields, and conversion to a Lua table\n"
      ],
      "metadata": {
        "id": "BmSrxbL92DGP"
      }
    },
    {
      "cell_type": "markdown",
      "source": [
        "### 4. Use your image and load in notebook then, How can you find out the width and height of an Image object?\n"
      ],
      "metadata": {
        "id": "w8Ml0kTAI-wk"
      }
    },
    {
      "cell_type": "code",
      "source": [
        "\n",
        "from PIL import Image\n",
        "pic = Image.open('Pic.jpg')\n",
        "print(f'Width, Height -> {pic.size}') "
      ],
      "metadata": {
        "id": "_NNmw-3QMELF"
      },
      "execution_count": null,
      "outputs": []
    },
    {
      "cell_type": "markdown",
      "source": [
        "###5. What method would you call to get Image object for a 100×100 image, excluding the lower-left quarter of it?\n"
      ],
      "metadata": {
        "id": "kf8ev7NBI_0U"
      }
    },
    {
      "cell_type": "code",
      "source": [
        "from PIL import Image\n",
        "img = Image.open('Pic.jpg')\n",
        "new_img = img.crop((0,50,50,50))"
      ],
      "metadata": {
        "id": "AWLQfxHLlLEm"
      },
      "execution_count": null,
      "outputs": []
    },
    {
      "cell_type": "markdown",
      "source": [
        "###6. After making changes to an Image object, how could you save it as an image file?\n"
      ],
      "metadata": {
        "id": "i-iiRKFaJCp0"
      }
    },
    {
      "cell_type": "code",
      "source": [
        "from PIL import Image\n",
        "pic = Image.open('pic.jpg')\n",
        "pic.save('pic2.jpg')"
      ],
      "metadata": {
        "id": "Eqmy1KLIlXQT"
      },
      "execution_count": null,
      "outputs": []
    },
    {
      "cell_type": "markdown",
      "source": [
        "###7. What module contains Pillow’s shape-drawing code?\n"
      ],
      "metadata": {
        "id": "t4B7Vud0JDoz"
      }
    },
    {
      "cell_type": "markdown",
      "source": [
        "Ans: Pillows ImageDraw module contains Shape drawing methods"
      ],
      "metadata": {
        "id": "PzWGng4dleRA"
      }
    },
    {
      "cell_type": "markdown",
      "source": [
        "###8. Image objects do not have drawing methods. What kind of object does? How do you get this kind of object?\n"
      ],
      "metadata": {
        "id": "shMm5uhDJEoX"
      }
    },
    {
      "cell_type": "markdown",
      "source": [
        "Ans: ImageDraw objects have shape-drawing methods such as point(), line(), or rectangle().They are returned by passing the Image object to the ImageDraw.Draw() function."
      ],
      "metadata": {
        "id": "qvCZYh3vlnK2"
      }
    }
  ]
}