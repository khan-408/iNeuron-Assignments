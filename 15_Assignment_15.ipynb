{
  "nbformat": 4,
  "nbformat_minor": 0,
  "metadata": {
    "colab": {
      "provenance": []
    },
    "kernelspec": {
      "name": "python3",
      "display_name": "Python 3"
    },
    "language_info": {
      "name": "python"
    }
  },
  "cells": [
    {
      "cell_type": "markdown",
      "source": [
        "### 1.How many seconds are in an hour? Use the interactive interpreter as a calculator and multiply the number of seconds in a minute (60) by the number of minutes in an hour (also 60).\n",
        "\n"
      ],
      "metadata": {
        "id": "uVgdVKPcOdUb"
      }
    },
    {
      "cell_type": "code",
      "source": [
        "def seconds_in_hour(hour:int):\n",
        "  hour = hour*60*60\n",
        "  return hour"
      ],
      "metadata": {
        "id": "Im74mJirPk26"
      },
      "execution_count": 25,
      "outputs": []
    },
    {
      "cell_type": "markdown",
      "source": [
        "### 2. Assign the result from the previous task (seconds in an hour) to a variable called seconds_per_hour.\n",
        "\n"
      ],
      "metadata": {
        "id": "eXyNihtQOfTT"
      }
    },
    {
      "cell_type": "code",
      "source": [
        "seconds_per_hour = seconds_in_hour(1)\n",
        "seconds_per_hour"
      ],
      "metadata": {
        "colab": {
          "base_uri": "https://localhost:8080/"
        },
        "id": "DFQFRIKQQnYk",
        "outputId": "613ee2ad-7467-4275-fc4d-881fb8f9fedb"
      },
      "execution_count": 26,
      "outputs": [
        {
          "output_type": "execute_result",
          "data": {
            "text/plain": [
              "3600"
            ]
          },
          "metadata": {},
          "execution_count": 26
        }
      ]
    },
    {
      "cell_type": "markdown",
      "source": [
        "### 3. How many seconds do you think there are in a day? Make use of the variables seconds per hour and minutes per hour.\n"
      ],
      "metadata": {
        "id": "chn8GKrBOiLP"
      }
    },
    {
      "cell_type": "code",
      "source": [
        "minute_per_hour = 60\n",
        "seconds_per_minute = 60\n",
        "hours_in_a_day = 24\n",
        "\n",
        "seconds_per_an_hour = seconds_per_minute*minute_per_hour\n",
        "\n",
        "seconds_per_day = seconds_per_an_hour*hours_in_a_day\n",
        "\n",
        "seconds_per_day"
      ],
      "metadata": {
        "colab": {
          "base_uri": "https://localhost:8080/"
        },
        "id": "5bB_AWUtSv0F",
        "outputId": "80dbef59-7308-4d76-ef62-47cad98948c8"
      },
      "execution_count": 27,
      "outputs": [
        {
          "output_type": "execute_result",
          "data": {
            "text/plain": [
              "86400"
            ]
          },
          "metadata": {},
          "execution_count": 27
        }
      ]
    },
    {
      "cell_type": "markdown",
      "source": [
        "### 4. Calculate seconds per day again, but this time save the result in a variable called seconds_per_day\n"
      ],
      "metadata": {
        "id": "mzoDckhWOkNs"
      }
    },
    {
      "cell_type": "code",
      "source": [
        "seconds_per_day = seconds_per_an_hour*hours_in_a_day\n",
        "seconds_per_day"
      ],
      "metadata": {
        "colab": {
          "base_uri": "https://localhost:8080/"
        },
        "id": "DGIzVRGtS_vJ",
        "outputId": "4c1ee353-4d20-4aa8-937d-8a6bedaca935"
      },
      "execution_count": 28,
      "outputs": [
        {
          "output_type": "execute_result",
          "data": {
            "text/plain": [
              "86400"
            ]
          },
          "metadata": {},
          "execution_count": 28
        }
      ]
    },
    {
      "cell_type": "markdown",
      "source": [
        "###5. Divide seconds_per_day by seconds_per_hour. Use floating-point (/) division.\n"
      ],
      "metadata": {
        "id": "w_xPQJQIOltI"
      }
    },
    {
      "cell_type": "code",
      "source": [
        "y = float(seconds_per_day)/seconds_per_hour\n",
        "y"
      ],
      "metadata": {
        "colab": {
          "base_uri": "https://localhost:8080/"
        },
        "id": "8vagrvtiUQiJ",
        "outputId": "7a9e37f9-8ecb-4c7d-cb3b-cd9f5ab395a6"
      },
      "execution_count": 29,
      "outputs": [
        {
          "output_type": "execute_result",
          "data": {
            "text/plain": [
              "24.0"
            ]
          },
          "metadata": {},
          "execution_count": 29
        }
      ]
    },
    {
      "cell_type": "markdown",
      "source": [
        "###6. Divide seconds_per_day by seconds_per_hour, using integer (//) division. Did this number agree with the floating-point value from the previous question, aside from the final .0?\n"
      ],
      "metadata": {
        "id": "HleG1v5COoGH"
      }
    },
    {
      "cell_type": "code",
      "source": [
        "x = seconds_per_day//seconds_per_hour\n",
        "if x == y:\n",
        "  print('Yes, this number do agree with the floating-point value from the previous question, aside from the final .0')\n",
        "\n",
        "else:\n",
        "  print('No, This doesnt')"
      ],
      "metadata": {
        "colab": {
          "base_uri": "https://localhost:8080/"
        },
        "id": "iBKaYTd7UaA0",
        "outputId": "09d21a4c-a839-43d0-e04e-eb4959d408c7"
      },
      "execution_count": 30,
      "outputs": [
        {
          "output_type": "stream",
          "name": "stdout",
          "text": [
            "Yes, this number do agree with the floating-point value from the previous question, aside from the final .0\n"
          ]
        }
      ]
    },
    {
      "cell_type": "markdown",
      "source": [
        "###7. Write a generator, genPrimes, that returns the sequence of prime numbers on successive calls to its next() method: 2, 3, 5, 7, 11, ...\n"
      ],
      "metadata": {
        "id": "NTMcul2qOpq0"
      }
    },
    {
      "cell_type": "code",
      "source": [
        "def genPrimes():\n",
        "  n=0\n",
        "  while True:\n",
        "    if n==2 or n==3 :\n",
        "      yield n\n",
        "    elif ((n-1)%6==0 or (n+1)%6==0) and n!=1:\n",
        "      yield n\n",
        "    n=n+1\n",
        "\n",
        "output = genPrimes()\n",
        "\n",
        "for x in range(5):\n",
        "  \n",
        "  print(next(output))"
      ],
      "metadata": {
        "colab": {
          "base_uri": "https://localhost:8080/"
        },
        "id": "eQn8jHJFVbzp",
        "outputId": "188e3b7e-56db-44ad-d7e7-c852dc0abf44"
      },
      "execution_count": 46,
      "outputs": [
        {
          "output_type": "stream",
          "name": "stdout",
          "text": [
            "2\n",
            "3\n",
            "5\n",
            "7\n",
            "11\n"
          ]
        }
      ]
    },
    {
      "cell_type": "code",
      "source": [],
      "metadata": {
        "id": "JmYq-XRHdliE"
      },
      "execution_count": null,
      "outputs": []
    }
  ]
}