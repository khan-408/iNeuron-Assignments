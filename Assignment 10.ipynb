{
 "cells": [
  {
   "cell_type": "markdown",
   "metadata": {},
   "source": [
    "#### 1. How do you distinguish between shutil.copy() and shutil.copytree()?\n"
   ]
  },
  {
   "cell_type": "markdown",
   "metadata": {},
   "source": [
    "shutil. copy() will copy a single file, shutil. copytree() will copy an entire folder and every folder and file contained in it.\n"
   ]
  },
  {
   "cell_type": "markdown",
   "metadata": {},
   "source": [
    "#### 2. What function is used to rename files??\n"
   ]
  },
  {
   "cell_type": "code",
   "execution_count": 3,
   "metadata": {},
   "outputs": [],
   "source": [
    "# import os\n",
    "# os.rename()"
   ]
  },
  {
   "cell_type": "markdown",
   "metadata": {},
   "source": [
    "#### 3. What is the difference between the delete functions in the send2trash and shutil modules?\n"
   ]
  },
  {
   "cell_type": "markdown",
   "metadata": {},
   "source": [
    "The send2trash functions will move a file or folder to the recycle bin, while shutil functions will permanently delete files and folders."
   ]
  },
  {
   "cell_type": "markdown",
   "metadata": {},
   "source": [
    "#### 4.ZipFile objects have a close() method just like File objects’ close() method. What ZipFile method is equivalent to File objects’ open() method?\n"
   ]
  },
  {
   "cell_type": "markdown",
   "metadata": {},
   "source": [
    "the first argument is the filename, and the second argument is the mode to open the ZIP file in (read, write, or append)."
   ]
  },
  {
   "cell_type": "markdown",
   "metadata": {},
   "source": [
    "#### 5. Create a programme that searches a folder tree for files with a certain file extension (such as .pdf or .jpg). Copy these files from whatever location they are in to a new folder.\n",
    "\n"
   ]
  },
  {
   "cell_type": "code",
   "execution_count": 5,
   "metadata": {},
   "outputs": [],
   "source": [
    "import shutil\n",
    "import os"
   ]
  },
  {
   "cell_type": "code",
   "execution_count": 15,
   "metadata": {},
   "outputs": [],
   "source": [
    "def Extract_jpg(folder):\n",
    "    for foldername, subfolders, filenames in os.walk(folder):\n",
    "        for filename in filenames:\n",
    "            if filename.endswith('.png'):\n",
    "                print(filename)\n",
    "                \n",
    "                image_path=os.path.join(foldername,filename)  # get the path location of each jpeg image.\n",
    "                print ('location: ',image_path )\n",
    "                \n",
    "                shutil.copy(image_path,'<destination>')"
   ]
  },
  {
   "cell_type": "code",
   "execution_count": 17,
   "metadata": {},
   "outputs": [],
   "source": [
    "Extract_jpg('Forage')"
   ]
  },
  {
   "cell_type": "code",
   "execution_count": 24,
   "metadata": {},
   "outputs": [
    {
     "name": "stdout",
     "output_type": "stream",
     "text": [
      "Looking in C:\\Users\\WELCOME\\Jupyter Practical\\Forage for files with extensions of .jpg, .png\n",
      "Coping C:\\Users\\WELCOME\\Jupyter Practical\\Forage\\Average purchase quantity per segment.png to C:\\Users\\WELCOME\\Jupyter Practical\\shutilCopy\n",
      "Coping C:\\Users\\WELCOME\\Jupyter Practical\\Forage\\lifestage_customers.png to C:\\Users\\WELCOME\\Jupyter Practical\\shutilCopy\n",
      "Coping C:\\Users\\WELCOME\\Jupyter Practical\\Forage\\lifestage_sales.png to C:\\Users\\WELCOME\\Jupyter Practical\\shutilCopy\n",
      "Coping C:\\Users\\WELCOME\\Jupyter Practical\\Forage\\TS 77 and CS 233 - nCustomers.png to C:\\Users\\WELCOME\\Jupyter Practical\\shutilCopy\n",
      "Coping C:\\Users\\WELCOME\\Jupyter Practical\\Forage\\TS 77 and CS 233 - TOT_SALES.png to C:\\Users\\WELCOME\\Jupyter Practical\\shutilCopy\n",
      "Coping C:\\Users\\WELCOME\\Jupyter Practical\\Forage\\TS 86 and CS 155 - nCustomers.png to C:\\Users\\WELCOME\\Jupyter Practical\\shutilCopy\n",
      "Coping C:\\Users\\WELCOME\\Jupyter Practical\\Forage\\TS 86 and CS 155 - TOT_SALES.png to C:\\Users\\WELCOME\\Jupyter Practical\\shutilCopy\n",
      "Coping C:\\Users\\WELCOME\\Jupyter Practical\\Forage\\TS 88 and CS 40 - nCustomers.png to C:\\Users\\WELCOME\\Jupyter Practical\\shutilCopy\n",
      "Coping C:\\Users\\WELCOME\\Jupyter Practical\\Forage\\TS 88 and CS 40 - TOT_SALES.png to C:\\Users\\WELCOME\\Jupyter Practical\\shutilCopy\n"
     ]
    }
   ],
   "source": [
    "\n",
    "import os, shutil\n",
    "\n",
    "def selectiveCopy(folder, extensions, destFolder):\n",
    "    folder = os.path.abspath(folder)\n",
    "    destFolder = os.path.abspath(destFolder)\n",
    "    \n",
    "    print('Looking in', folder, 'for files with extensions of', ', '.join(extensions))\n",
    "    \n",
    "    for foldername, subfolders, filenames in os.walk(folder):\n",
    "#         print(foldername)\n",
    "#         print(subfolders)\n",
    "#         print(filenames)\n",
    "        for filename in filenames:\n",
    "            name, extension = os.path.splitext(filename)\n",
    "#             print(name)\n",
    "#             print(extensions)\n",
    "            if extension in extensions:\n",
    "                fileAbsPath = foldername + os.path.sep + filename\n",
    "                print('Coping', fileAbsPath, 'to', destFolder)\n",
    "                shutil.copy(fileAbsPath, destFolder)\n",
    "\n",
    "extensions = ['.jpg', '.png']\n",
    "folder = 'Forage'\n",
    "destFolder = 'shutilCopy'\n",
    "selectiveCopy(folder, extensions, destFolder)"
   ]
  },
  {
   "cell_type": "code",
   "execution_count": null,
   "metadata": {},
   "outputs": [],
   "source": []
  }
 ],
 "metadata": {
  "kernelspec": {
   "display_name": "Python 3",
   "language": "python",
   "name": "python3"
  },
  "language_info": {
   "codemirror_mode": {
    "name": "ipython",
    "version": 3
   },
   "file_extension": ".py",
   "mimetype": "text/x-python",
   "name": "python",
   "nbconvert_exporter": "python",
   "pygments_lexer": "ipython3",
   "version": "3.8.3"
  }
 },
 "nbformat": 4,
 "nbformat_minor": 5
}
