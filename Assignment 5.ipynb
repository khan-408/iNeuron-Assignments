{
 "cells": [
  {
   "cell_type": "markdown",
   "id": "c7b19869",
   "metadata": {},
   "source": [
    "#### 1. What does an empty dictionary's code look like?"
   ]
  },
  {
   "cell_type": "markdown",
   "id": "b456ac37",
   "metadata": {},
   "source": [
    "An empty pair of curly braces {} is an empty dictionary"
   ]
  },
  {
   "cell_type": "markdown",
   "id": "818394df",
   "metadata": {},
   "source": [
    "#### 2. What is the value of a dictionary value with the key 'foo' and the value 42?"
   ]
  },
  {
   "cell_type": "code",
   "execution_count": 8,
   "id": "e88f30e3",
   "metadata": {},
   "outputs": [
    {
     "data": {
      "text/plain": [
       "{'foo': 42}"
      ]
     },
     "execution_count": 8,
     "metadata": {},
     "output_type": "execute_result"
    }
   ],
   "source": [
    "dic={'foo':42}\n",
    "dic"
   ]
  },
  {
   "cell_type": "markdown",
   "id": "e296faa4",
   "metadata": {},
   "source": [
    "#### 3. What is the most significant distinction between a dictionary and a list?"
   ]
  },
  {
   "cell_type": "raw",
   "id": "053d28e5",
   "metadata": {},
   "source": [
    "list contains value normally, whilst the dictionary contains the value in key and value format. '\n",
    "for example \n",
    "list=['Khan',12,UP]\n",
    "dict={'name':'Khan', 'age':12, 'state':'UP'}"
   ]
  },
  {
   "cell_type": "markdown",
   "id": "4c9509d8",
   "metadata": {},
   "source": [
    "#### 4. What happens if you try to access spam['foo'] if spam is {'bar': 100}?"
   ]
  },
  {
   "cell_type": "markdown",
   "id": "189c6d1a",
   "metadata": {},
   "source": [
    "We'll get a keyError."
   ]
  },
  {
   "cell_type": "code",
   "execution_count": 9,
   "id": "b51ad2f6",
   "metadata": {},
   "outputs": [
    {
     "ename": "KeyError",
     "evalue": "'foo'",
     "output_type": "error",
     "traceback": [
      "\u001b[1;31m---------------------------------------------------------------------------\u001b[0m",
      "\u001b[1;31mKeyError\u001b[0m                                  Traceback (most recent call last)",
      "Cell \u001b[1;32mIn [9], line 2\u001b[0m\n\u001b[0;32m      1\u001b[0m spam  \u001b[38;5;241m=\u001b[39m {\u001b[38;5;124m'\u001b[39m\u001b[38;5;124mbar\u001b[39m\u001b[38;5;124m'\u001b[39m: \u001b[38;5;241m100\u001b[39m}\n\u001b[1;32m----> 2\u001b[0m \u001b[43mspam\u001b[49m\u001b[43m[\u001b[49m\u001b[38;5;124;43m'\u001b[39;49m\u001b[38;5;124;43mfoo\u001b[39;49m\u001b[38;5;124;43m'\u001b[39;49m\u001b[43m]\u001b[49m\n",
      "\u001b[1;31mKeyError\u001b[0m: 'foo'"
     ]
    }
   ],
   "source": [
    "spam  = {'bar': 100}\n",
    "spam['foo']"
   ]
  },
  {
   "cell_type": "markdown",
   "id": "99148aa1",
   "metadata": {},
   "source": [
    "#### 5. If a dictionary is stored in spam, what is the difference between the expressions 'cat' in spam and 'cat' in spam.keys()?\n"
   ]
  },
  {
   "cell_type": "markdown",
   "id": "48887305",
   "metadata": {},
   "source": [
    "There is no difference in 'cat' in spam and 'cat' in spam.keys()\n",
    "both will serch 'cat' in keys.\n",
    "\n",
    "'cat' in spam.value() would be different."
   ]
  },
  {
   "cell_type": "code",
   "execution_count": 24,
   "id": "7f7a4a45",
   "metadata": {},
   "outputs": [
    {
     "name": "stdout",
     "output_type": "stream",
     "text": [
      "True\n",
      "True\n",
      "False\n"
     ]
    }
   ],
   "source": [
    "spam={'cat':'xyz','key2':'pqr'}\n",
    "print('cat' in spam)\n",
    "print('cat' in spam.keys())\n",
    "print('cat' in spam.values())"
   ]
  },
  {
   "cell_type": "markdown",
   "id": "b233efc4",
   "metadata": {},
   "source": [
    "#### 6. If a dictionary is stored in spam, what is the difference between the expressions 'cat' in spam and 'cat' in spam.values()?\n"
   ]
  },
  {
   "cell_type": "markdown",
   "id": "03d8d364",
   "metadata": {},
   "source": [
    "There is dieffernce in both of the expressions. 'cat' in spam would check whether the 'cat' is in spam.keys() or not.\n",
    "whilst 'cat' is spam.values would check for 'cat' in values of spam"
   ]
  },
  {
   "cell_type": "markdown",
   "id": "47a52e63",
   "metadata": {},
   "source": [
    "#### 7. What is a shortcut for the following code?\n"
   ]
  },
  {
   "cell_type": "markdown",
   "id": "c79bf276",
   "metadata": {},
   "source": [
    "The setdefault() method offers a way to do this in one line of code. The first argument passed to the method is the key to check for, and the second argument is the value to set at that key if the key does not exist. If the key does exist, the setdefault() method returns the key’s value. Enter the following into the interactive shell:"
   ]
  },
  {
   "cell_type": "code",
   "execution_count": 25,
   "id": "a9b251bf",
   "metadata": {},
   "outputs": [
    {
     "name": "stdout",
     "output_type": "stream",
     "text": [
      "{'cat': 'xyz', 'key2': 'pqr'}\n",
      "{'cat': 'xyz', 'key2': 'pqr', 'color': 'black'}\n"
     ]
    }
   ],
   "source": [
    "# if 'color' not in spam:\n",
    "#     spam['color'] = 'black'\n",
    "print(spam)\n",
    "spam.setdefault('color','black')\n",
    "print(spam)"
   ]
  },
  {
   "cell_type": "markdown",
   "id": "9263b688",
   "metadata": {},
   "source": [
    "#### 8. How do you \"pretty print\" dictionary values using which module and function?"
   ]
  },
  {
   "cell_type": "code",
   "execution_count": 21,
   "id": "2f01a4f5",
   "metadata": {},
   "outputs": [],
   "source": [
    "import pprint"
   ]
  },
  {
   "cell_type": "code",
   "execution_count": 23,
   "id": "385a55f6",
   "metadata": {},
   "outputs": [
    {
     "name": "stdout",
     "output_type": "stream",
     "text": [
      "{'cat': 'xyz', 'color': 'black', 'key2': 'pqr'}\n"
     ]
    }
   ],
   "source": [
    "pprint.pprint(spam)"
   ]
  },
  {
   "cell_type": "code",
   "execution_count": null,
   "id": "eaeb4733",
   "metadata": {},
   "outputs": [],
   "source": []
  }
 ],
 "metadata": {
  "kernelspec": {
   "display_name": "Python 3 (ipykernel)",
   "language": "python",
   "name": "python3"
  },
  "language_info": {
   "codemirror_mode": {
    "name": "ipython",
    "version": 3
   },
   "file_extension": ".py",
   "mimetype": "text/x-python",
   "name": "python",
   "nbconvert_exporter": "python",
   "pygments_lexer": "ipython3",
   "version": "3.8.10"
  }
 },
 "nbformat": 4,
 "nbformat_minor": 5
}
