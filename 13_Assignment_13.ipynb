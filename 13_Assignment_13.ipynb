{
  "nbformat": 4,
  "nbformat_minor": 0,
  "metadata": {
    "colab": {
      "provenance": []
    },
    "kernelspec": {
      "name": "python3",
      "display_name": "Python 3"
    },
    "language_info": {
      "name": "python"
    }
  },
  "cells": [
    {
      "cell_type": "markdown",
      "source": [
        "### 1. What advantages do Excel spreadsheets have over CSV spreadsheets?"
      ],
      "metadata": {
        "id": "AlY6KBQ-4jeV"
      }
    },
    {
      "cell_type": "markdown",
      "source": [
        "Excel is more superior when compared with the CSV file format; thus, CSV consumes less amount of file size when the user is importing data; it is a much faster format compared to excel. CSV does not manipulate data and stores it as-is. Excel also allows the user the add-in feature."
      ],
      "metadata": {
        "id": "_5xKiz-WKfJ3"
      }
    },
    {
      "cell_type": "markdown",
      "source": [
        "### 2. What do you pass to csv.reader() and csv.writer() to create reader and writer objects?\n"
      ],
      "metadata": {
        "id": "aWhFl-8y7HsF"
      }
    },
    {
      "cell_type": "code",
      "source": [
        "import  csv\n",
        "with open('text.csv', 'w') as file:\n",
        "  csv_file = csv.writer(file)\n",
        "  print(csv_file)\n",
        "with open('text.csv', 'r') as file:\n",
        "  csv_file = csv.reader(file)\n",
        "  print(csv_file)\n",
        "  for ele in csv_file:\n",
        "    print(ele)"
      ],
      "metadata": {
        "colab": {
          "base_uri": "https://localhost:8080/"
        },
        "id": "M-CkINLDOWRv",
        "outputId": "f8788890-f3e4-49fb-eed3-e24b268d30d4"
      },
      "execution_count": 11,
      "outputs": [
        {
          "output_type": "stream",
          "name": "stdout",
          "text": [
            "<_csv.writer object at 0x7fd694c07d00>\n",
            "<_csv.reader object at 0x7fd694ca75a0>\n"
          ]
        }
      ]
    },
    {
      "cell_type": "markdown",
      "source": [
        "First, call open() and pass it 'w' to open a file in write mode ❶. This will create the object you can then pass to csv. writer() \n",
        "\n",
        "❷ to create a Writer object. On Windows, you'll also need to pass a blank string for the open() function's newline keyword argument."
      ],
      "metadata": {
        "id": "b41b7rvSMqxp"
      }
    },
    {
      "cell_type": "markdown",
      "source": [
        "### 3. What modes do File objects for reader and writer objects need to be opened in?"
      ],
      "metadata": {
        "id": "QEFv2BlJ7JLn"
      }
    },
    {
      "cell_type": "markdown",
      "source": [
        "Ans: For csv.reader(iterable_file_object), the file objects needed to be opened in read mode mode='r' Whereas for csv.writer(iterable_file_object) the file objects needed to be opened in write mode mode='w'"
      ],
      "metadata": {
        "id": "SwP00fWsQ6wY"
      }
    },
    {
      "cell_type": "markdown",
      "source": [
        "### 4. What method takes a list argument and writes it to a CSV file?\n"
      ],
      "metadata": {
        "id": "HDEUykm17KNI"
      }
    },
    {
      "cell_type": "markdown",
      "source": [
        "Ans: csv.writer class provides two methods for writing to CSV. They are writerow() and writerows().\n",
        "\n",
        "\n",
        " writerow() method writes a single row at a time. Whereas writerows() method is used to write multiple rows at a time."
      ],
      "metadata": {
        "id": "ltc5-_jMRJhJ"
      }
    },
    {
      "cell_type": "code",
      "source": [
        "# Example Program\n",
        "import csv      \n",
        "fields = ['Name', 'Branch', 'Year', 'CGPA'] #column names \n",
        "rows = [ \n",
        "            ['Nikhil', 'COE', '2', '9.0'],  # data rows of csv file \n",
        "            ['Sanchit', 'COE', '2', '9.1'], \n",
        "            ['Ravi', 'IT', '2', '9.3']\n",
        "       ] \n",
        "with open(\"university_records.csv\", 'w') as csvfile: \n",
        "    csvwriter = csv.writer(csvfile) # creating a csv writer object \n",
        "    csvwriter.writerow(fields) # writing the fields \n",
        "    csvwriter.writerows(rows) # writing the data rows "
      ],
      "metadata": {
        "id": "5m-a2X3ZRcXN"
      },
      "execution_count": 12,
      "outputs": []
    },
    {
      "cell_type": "markdown",
      "source": [
        "### 5. What do the keyword arguments delimiter and line terminator do?\n"
      ],
      "metadata": {
        "id": "1rIou8Y3IcQ6"
      }
    },
    {
      "cell_type": "markdown",
      "source": [
        "Ans: Lets take the example of a csv file:\n",
        "\n",
        "First Name, Last Name, Age\n",
        "\n",
        "Zaid, Khan, 21\n",
        "\n",
        "Aryan, Khan, 34\n",
        "\n",
        "Here ',' is Delimiter. We can use any Character as per our needs if required. Similarly Line Terminator comes at end of line by default it is newline and can be changed accourding to Requirement."
      ],
      "metadata": {
        "id": "WREED2RPURig"
      }
    },
    {
      "cell_type": "code",
      "source": [
        "6. What function takes a string of JSON data and returns a Python data structure?"
      ],
      "metadata": {
        "colab": {
          "base_uri": "https://localhost:8080/"
        },
        "id": "5LWdVOK0IdRi",
        "outputId": "b3a4664d-c7f4-4556-b425-e4c8da3292b2"
      },
      "execution_count": 3,
      "outputs": [
        {
          "output_type": "stream",
          "name": "stdout",
          "text": [
            "Object `structure` not found.\n"
          ]
        }
      ]
    },
    {
      "cell_type": "markdown",
      "source": [
        "loads() method takes a string of JSON data and return python data structure."
      ],
      "metadata": {
        "id": "-u9_ebTZXZRD"
      }
    },
    {
      "cell_type": "code",
      "source": [
        "# Example of json.loads() method\n",
        "import json\n",
        "my_details_json ='''{\n",
        "    \"Name\": \"Zaid Khan\",\n",
        "    \"Qualification\": \"Bachelor of Technology\",\n",
        "    \"Stream\": \"Computer Science\"\n",
        "}'''\n",
        "print(my_details_json)\n",
        "print(f'Type of my_details_json is {type(my_details_json)}')\n",
        "my_details = json.loads(my_details_json)\n",
        "print(my_details)\n",
        "print(f'Type of my_details is {type(my_details)}')"
      ],
      "metadata": {
        "colab": {
          "base_uri": "https://localhost:8080/"
        },
        "id": "SCh1CfVVWUxv",
        "outputId": "db2091af-af02-483f-cf56-25575018fdd9"
      },
      "execution_count": 13,
      "outputs": [
        {
          "output_type": "stream",
          "name": "stdout",
          "text": [
            "{\n",
            "    \"Name\": \"Zaid Khan\",\n",
            "    \"Qualification\": \"Bachelor of Technology\",\n",
            "    \"Stream\": \"Computer Science\"\n",
            "}\n",
            "Type of my_details_json is <class 'str'>\n",
            "{'Name': 'Zaid Khan', 'Qualification': 'Bachelor of Technology', 'Stream': 'Computer Science'}\n",
            "Type of my_details is <class 'dict'>\n"
          ]
        }
      ]
    },
    {
      "cell_type": "code",
      "source": [
        "7. What function takes a Python data structure and returns a string of JSON data?\n"
      ],
      "metadata": {
        "id": "70Y38gUZIeMi"
      },
      "execution_count": null,
      "outputs": []
    },
    {
      "cell_type": "markdown",
      "source": [
        "dumps() method takes a python data structure and returns a string of JSON data"
      ],
      "metadata": {
        "id": "pIbDWoIbYQ9K"
      }
    },
    {
      "cell_type": "code",
      "source": [
        "# Example of json.dumps() method\n",
        "import json\n",
        "my_details = {\n",
        "    'Name':'Zaid Khan',\n",
        "    'Stream':'Computer Science',\n",
        "    'Qualification':'Bachelor of Technology'\n",
        "}\n",
        "print(my_details)\n",
        "print(f'Type of my_details is {type(my_details)}')\n",
        "my_details_json = json.dumps(my_details, indent=4, sort_keys=True)\n",
        "print(my_details_json)\n",
        "print(f'Type of my_details_json is {type(my_details_json)}')"
      ],
      "metadata": {
        "colab": {
          "base_uri": "https://localhost:8080/"
        },
        "id": "QagH7hrtYRbs",
        "outputId": "1cd55af6-6b06-4ceb-bad0-2c0eef56b93b"
      },
      "execution_count": 15,
      "outputs": [
        {
          "output_type": "stream",
          "name": "stdout",
          "text": [
            "{'Name': 'Zaid Khan', 'Stream': 'Computer Science', 'Qualification': 'Bachelor of Technology'}\n",
            "Type of my_details is <class 'dict'>\n",
            "{\n",
            "    \"Name\": \"Zaid Khan\",\n",
            "    \"Qualification\": \"Bachelor of Technology\",\n",
            "    \"Stream\": \"Computer Science\"\n",
            "}\n",
            "Type of my_details_json is <class 'str'>\n",
            "{'Name': 'Zaid Khan', 'Stream': 'Computer Science', 'Qualification': 'Bachelor of Technology'}\n",
            "Type of my_details is <class 'dict'>\n",
            "{\n",
            "    \"Name\": \"Zaid Khan\",\n",
            "    \"Qualification\": \"Bachelor of Technology\",\n",
            "    \"Stream\": \"Computer Science\"\n",
            "}\n",
            "Type of my_details_json is <class 'str'>\n"
          ]
        }
      ]
    },
    {
      "cell_type": "code",
      "source": [],
      "metadata": {
        "id": "nogFk5CPYcE-"
      },
      "execution_count": null,
      "outputs": []
    }
  ]
}