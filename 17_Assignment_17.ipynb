{
  "nbformat": 4,
  "nbformat_minor": 0,
  "metadata": {
    "colab": {
      "provenance": []
    },
    "kernelspec": {
      "name": "python3",
      "display_name": "Python 3"
    },
    "language_info": {
      "name": "python"
    }
  },
  "cells": [
    {
      "cell_type": "markdown",
      "source": [
        "###1. Assign the value 7 to the variable guess_me. Then, write the conditional tests (if, else, and elif) to print the string 'too low' if guess_me is less than 7, 'too high' if greater than 7, and 'just right' if equal to 7.\n",
        "\n"
      ],
      "metadata": {
        "id": "NnZMGBwjl59n"
      }
    },
    {
      "cell_type": "code",
      "source": [
        "guess_me = 7\n",
        "\n",
        "if guess_me<7:\n",
        "  print('too low')\n",
        "elif guess_me>7:\n",
        "  print('too high')\n",
        "else:\n",
        "  print('just right')"
      ],
      "metadata": {
        "colab": {
          "base_uri": "https://localhost:8080/"
        },
        "id": "TZdggVaMmqQw",
        "outputId": "48c228e4-0c0c-426d-e54e-44ed1647eb06"
      },
      "execution_count": 11,
      "outputs": [
        {
          "output_type": "stream",
          "name": "stdout",
          "text": [
            "just right\n"
          ]
        }
      ]
    },
    {
      "cell_type": "code",
      "source": [
        "guess_me = 4\n",
        "\n",
        "if guess_me<7:\n",
        "  print('too low')\n",
        "elif guess_me>7:\n",
        "  print('too high')\n",
        "else:\n",
        "  print('just right')"
      ],
      "metadata": {
        "colab": {
          "base_uri": "https://localhost:8080/"
        },
        "id": "ORhUgq0dnZzu",
        "outputId": "f2805de3-c3b4-4f4b-804d-1d1f4a9077b4"
      },
      "execution_count": 12,
      "outputs": [
        {
          "output_type": "stream",
          "name": "stdout",
          "text": [
            "too low\n"
          ]
        }
      ]
    },
    {
      "cell_type": "code",
      "source": [
        "guess_me = 11\n",
        "\n",
        "if guess_me<7:\n",
        "  print('too low')\n",
        "elif guess_me>7:\n",
        "  print('too high')\n",
        "else:\n",
        "  print('just right')"
      ],
      "metadata": {
        "colab": {
          "base_uri": "https://localhost:8080/"
        },
        "id": "HmigpuCUndol",
        "outputId": "17fd0e64-8c84-4d20-c597-03a4940fcfcd"
      },
      "execution_count": 13,
      "outputs": [
        {
          "output_type": "stream",
          "name": "stdout",
          "text": [
            "too high\n"
          ]
        }
      ]
    },
    {
      "cell_type": "markdown",
      "source": [
        "###2. Assign the value 7 to the variable guess_me and the value 1 to the variable start. Write a while loop that compares start with guess_me. Print too low if start is less than guess me. If start equals guess_me, print 'found it!' and exit the loop. If start is greater than guess_me, print 'oops' and exit the loop. Increment start at the end of the loop.\n"
      ],
      "metadata": {
        "id": "xpS56bHSl841"
      }
    },
    {
      "cell_type": "code",
      "source": [
        "guess_me = 7\n",
        "start = 1\n",
        "while True:\n",
        "  if start<guess_me:\n",
        "    print('too low')\n",
        "  elif start == guess_me:\n",
        "    print('found it!')\n",
        "  else:\n",
        "    print('oops')\n",
        "    break\n",
        "  start += 1"
      ],
      "metadata": {
        "colab": {
          "base_uri": "https://localhost:8080/"
        },
        "id": "dC36RIiFoccG",
        "outputId": "9b8c938e-d2f2-48fd-de59-a395911a1b59"
      },
      "execution_count": 17,
      "outputs": [
        {
          "output_type": "stream",
          "name": "stdout",
          "text": [
            "too low\n",
            "too low\n",
            "too low\n",
            "too low\n",
            "too low\n",
            "too low\n",
            "found it!\n",
            "oops\n"
          ]
        }
      ]
    },
    {
      "cell_type": "markdown",
      "source": [
        "###3. Print the following values of the list [3, 2, 1, 0] using a for loop.\n"
      ],
      "metadata": {
        "id": "nNodqJyemH2r"
      }
    },
    {
      "cell_type": "code",
      "source": [
        " list1 =  [3, 2, 1, 0]\n",
        " for i in list1:\n",
        "   print(i)"
      ],
      "metadata": {
        "colab": {
          "base_uri": "https://localhost:8080/"
        },
        "id": "fMNPJm_UqjL3",
        "outputId": "d31fe6cb-5f3e-4668-a2a9-8fb69d066c09"
      },
      "execution_count": 18,
      "outputs": [
        {
          "output_type": "stream",
          "name": "stdout",
          "text": [
            "3\n",
            "2\n",
            "1\n",
            "0\n"
          ]
        }
      ]
    },
    {
      "cell_type": "markdown",
      "source": [
        "### 4. Use a list comprehension to make a list of the even numbers in range(10)\n"
      ],
      "metadata": {
        "id": "KvawCOS_mKEC"
      }
    },
    {
      "cell_type": "code",
      "source": [
        "[i for i in range(1,10) if i%2==0]"
      ],
      "metadata": {
        "colab": {
          "base_uri": "https://localhost:8080/"
        },
        "id": "Mo_4lsrGqvE6",
        "outputId": "4799d1b6-fb52-461b-b650-d83e7346b10b"
      },
      "execution_count": 22,
      "outputs": [
        {
          "output_type": "execute_result",
          "data": {
            "text/plain": [
              "[2, 4, 6, 8]"
            ]
          },
          "metadata": {},
          "execution_count": 22
        }
      ]
    },
    {
      "cell_type": "markdown",
      "source": [
        "###5. Use a dictionary comprehension to create the dictionary squares. Use range(10) to return the keys, and use the square of each key as its value.\n"
      ],
      "metadata": {
        "id": "wqNqoQ9hmMEi"
      }
    },
    {
      "cell_type": "code",
      "source": [
        "{i:i**2 for i in range(1,10)}"
      ],
      "metadata": {
        "colab": {
          "base_uri": "https://localhost:8080/"
        },
        "id": "yY9brm4qre3r",
        "outputId": "256e5c5e-8bcb-4dca-a4e7-3ec003f27142"
      },
      "execution_count": 29,
      "outputs": [
        {
          "output_type": "execute_result",
          "data": {
            "text/plain": [
              "{1: 1, 2: 4, 3: 9, 4: 16, 5: 25, 6: 36, 7: 49, 8: 64, 9: 81}"
            ]
          },
          "metadata": {},
          "execution_count": 29
        }
      ]
    },
    {
      "cell_type": "markdown",
      "source": [
        "###6. Construct the set odd from the odd numbers in the range using a set comprehension (10).\n"
      ],
      "metadata": {
        "id": "yKDnHnXfmOfa"
      }
    },
    {
      "cell_type": "code",
      "source": [
        "{i for i in range(1,10) if i%2!=0}"
      ],
      "metadata": {
        "colab": {
          "base_uri": "https://localhost:8080/"
        },
        "id": "koLocd3mtok9",
        "outputId": "25fa3b36-eceb-449c-8481-21f501dd210e"
      },
      "execution_count": 33,
      "outputs": [
        {
          "output_type": "execute_result",
          "data": {
            "text/plain": [
              "{1, 3, 5, 7, 9}"
            ]
          },
          "metadata": {},
          "execution_count": 33
        }
      ]
    },
    {
      "cell_type": "markdown",
      "source": [
        "###7. Use a generator comprehension to return the string 'Got ' and a number for the numbers in range(10). Iterate through this by using a for loop.\n"
      ],
      "metadata": {
        "id": "UONRHNV_mPoy"
      }
    },
    {
      "cell_type": "code",
      "source": [
        "gen = ('Got_' + str(i) for i in range(10))\n",
        "for j in gen:\n",
        "  print(j,end=' ')"
      ],
      "metadata": {
        "colab": {
          "base_uri": "https://localhost:8080/"
        },
        "id": "moe3WVy1vF0s",
        "outputId": "72da76f5-dfa0-4bfd-f114-1cbcdfc3c6de"
      },
      "execution_count": 37,
      "outputs": [
        {
          "output_type": "stream",
          "name": "stdout",
          "text": [
            "Got_0 Got_1 Got_2 Got_3 Got_4 Got_5 Got_6 Got_7 Got_8 Got_9 "
          ]
        }
      ]
    },
    {
      "cell_type": "markdown",
      "source": [
        "###8. Define a function called good that returns the list ['Harry', 'Ron', 'Hermione'].\n"
      ],
      "metadata": {
        "id": "Ub5_ZmyAmQqb"
      }
    },
    {
      "cell_type": "code",
      "source": [
        "def good():\n",
        "  return ['Harry','Ron','Hermoine']\n",
        "\n",
        "good()"
      ],
      "metadata": {
        "colab": {
          "base_uri": "https://localhost:8080/"
        },
        "id": "e06_pjXVxRb4",
        "outputId": "7749c276-f253-442d-aac9-b7b328f7549e"
      },
      "execution_count": 39,
      "outputs": [
        {
          "output_type": "execute_result",
          "data": {
            "text/plain": [
              "['Harry', 'Ron', 'Hermoine']"
            ]
          },
          "metadata": {},
          "execution_count": 39
        }
      ]
    },
    {
      "cell_type": "markdown",
      "source": [
        "###9. Define a generator function called get_odds that returns the odd numbers from range(10). Use a for loop to find and print the third value returned.\n"
      ],
      "metadata": {
        "id": "PyJ_hNTYmSJC"
      }
    },
    {
      "cell_type": "code",
      "source": [
        "def get_odds():\n",
        "  lst=[]  \n",
        "  for i in range(10):\n",
        "    if i%2!=0:\n",
        "      lst.append(i)\n",
        "  yield lst\n",
        "\n",
        "next(get_odds())[2]\n"
      ],
      "metadata": {
        "colab": {
          "base_uri": "https://localhost:8080/"
        },
        "id": "Hiu6tJ7Xxf5B",
        "outputId": "bb7662a7-b2a9-4c6b-f584-f23003433ec2"
      },
      "execution_count": 57,
      "outputs": [
        {
          "output_type": "execute_result",
          "data": {
            "text/plain": [
              "5"
            ]
          },
          "metadata": {},
          "execution_count": 57
        }
      ]
    },
    {
      "cell_type": "markdown",
      "source": [
        "###10. Define an exception called OopsException. Raise this exception to see what happens. Then write the code to catch this exception and print 'Caught an oops'.\n"
      ],
      "metadata": {
        "id": "G1TgfQusmTGy"
      }
    },
    {
      "cell_type": "code",
      "source": [
        "class OopsException(Exception):\n",
        "  pass\n",
        "\n",
        "def test(input):\n",
        "  if input<0:\n",
        "    raise OopsException(a)\n",
        "\n",
        "  \n",
        "try:\n",
        "  test(-3)\n",
        "\n",
        "except Exception as e:\n",
        "  print('Caught an oops->', e)\n"
      ],
      "metadata": {
        "colab": {
          "base_uri": "https://localhost:8080/"
        },
        "id": "4b2xLgoA0Hbc",
        "outputId": "db6c5319-6ed1-442b-a073-78aba62e7106"
      },
      "execution_count": 59,
      "outputs": [
        {
          "output_type": "stream",
          "name": "stdout",
          "text": [
            "Caught an oops-> name 'a' is not defined\n"
          ]
        }
      ]
    },
    {
      "cell_type": "markdown",
      "source": [
        "###11. Use zip() to make a dictionary called movies that pairs these lists: titles = ['Creature of Habit', 'Crewel Fate'] and plots = ['A nun turns into a monster', 'A haunted yarn shop'].\n"
      ],
      "metadata": {
        "id": "YuFrl0w_mUui"
      }
    },
    {
      "cell_type": "code",
      "source": [
        "titles = ['Creature of Habit', 'Crewel Fate']\n",
        "plots = ['A nun turns into a monster', 'A haunted yarn shop']\n",
        "\n",
        "\n",
        "movies = {keys:values for (keys,values) in zip(titles, plots)}\n",
        "\n",
        "movies"
      ],
      "metadata": {
        "colab": {
          "base_uri": "https://localhost:8080/"
        },
        "id": "0xA_3m692eqS",
        "outputId": "ed3e160d-f540-4899-bf49-c059fd7a94c5"
      },
      "execution_count": 61,
      "outputs": [
        {
          "output_type": "execute_result",
          "data": {
            "text/plain": [
              "{'Creature of Habit': 'A nun turns into a monster',\n",
              " 'Crewel Fate': 'A haunted yarn shop'}"
            ]
          },
          "metadata": {},
          "execution_count": 61
        }
      ]
    },
    {
      "cell_type": "code",
      "source": [],
      "metadata": {
        "id": "W0yUXUoc3brD"
      },
      "execution_count": null,
      "outputs": []
    }
  ]
}