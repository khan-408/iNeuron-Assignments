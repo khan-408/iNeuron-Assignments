{
 "cells": [
  {
   "cell_type": "markdown",
   "id": "3a0e4561",
   "metadata": {},
   "source": [
    "#### 1. Why are functions advantageous to have in your programs?"
   ]
  },
  {
   "cell_type": "markdown",
   "id": "80677087",
   "metadata": {},
   "source": [
    "Functions are callable. We are able to call  Functions multiple times from anywhere.\n",
    "by using functions we can prevent repeating the same code blocks.\n",
    "If our Python program is large, it can be separated into numerous functions which is simple to track."
   ]
  },
  {
   "cell_type": "markdown",
   "id": "ea7d7dbd",
   "metadata": {},
   "source": [
    "#### 2. When does the code in a function run: when it's specified or when it's called?"
   ]
  },
  {
   "cell_type": "markdown",
   "id": "5fede6b8",
   "metadata": {},
   "source": [
    "When we call the function, The code inside it, executes. not when we defined/specified it.\n",
    "when we specified a function and gives code inside it. it doesnt execute until we call it."
   ]
  },
  {
   "cell_type": "markdown",
   "id": "93e8fa95",
   "metadata": {},
   "source": [
    "#### 3. What statement creates a function?"
   ]
  },
  {
   "cell_type": "code",
   "execution_count": 18,
   "id": "eb1b81f3",
   "metadata": {},
   "outputs": [],
   "source": [
    "## we use 'def' statement to create a function.\n",
    "def myfunction():\n",
    "    pass"
   ]
  },
  {
   "cell_type": "markdown",
   "id": "c82dff4d",
   "metadata": {},
   "source": [
    "### 4. What is the difference between a function and a function call?\n"
   ]
  },
  {
   "cell_type": "markdown",
   "id": "841cb247",
   "metadata": {},
   "source": [
    "A function is a block of code that does a particular operation and returns a result when we call it. \n",
    "A function call is the code used to pass control to a function."
   ]
  },
  {
   "cell_type": "markdown",
   "id": "88af0675",
   "metadata": {},
   "source": [
    "#### 5. How many global scopes are there in a Python program? How many local scopes?"
   ]
  },
  {
   "cell_type": "markdown",
   "id": "98dc679c",
   "metadata": {},
   "source": [
    "There's only one global Python scope per program execution. This scope remains in existence until the program terminates , and a local scope is created whenever a function is called."
   ]
  },
  {
   "cell_type": "markdown",
   "id": "626f8315",
   "metadata": {},
   "source": [
    "#### 6. What happens to variables in a local scope when the function call returns?"
   ]
  },
  {
   "cell_type": "markdown",
   "id": "d5d0c01f",
   "metadata": {},
   "source": [
    "When a function returns, the lifetime of local scope get expire."
   ]
  },
  {
   "cell_type": "markdown",
   "id": "8fd076bb",
   "metadata": {},
   "source": [
    "#### 7. What is the concept of a return value? Is it possible to have a return value in an expression?"
   ]
  },
  {
   "cell_type": "markdown",
   "id": "88ccc9d1",
   "metadata": {},
   "source": [
    "return value is a value which a function returns after complete the operation which is given inside it. \n",
    "A return value can be any one of the four variable types: handle, integer, object, or string. The type of value your function returns depends largely on the task it performs."
   ]
  },
  {
   "cell_type": "markdown",
   "id": "10148ddc",
   "metadata": {},
   "source": [
    "#### 8. If a function does not have a return statement, what is the return value of a call to that function?"
   ]
  },
  {
   "cell_type": "markdown",
   "id": "997b6731",
   "metadata": {},
   "source": [
    "In this case, the return value of the called function is undefined.That return value will always be None"
   ]
  },
  {
   "cell_type": "code",
   "execution_count": 21,
   "id": "2ad445bd",
   "metadata": {},
   "outputs": [],
   "source": [
    "def func(a):\n",
    "    a+2\n",
    " \n",
    "func(5)"
   ]
  },
  {
   "cell_type": "markdown",
   "id": "e47a0fc4",
   "metadata": {},
   "source": [
    "#### 9. How do you make a function variable refer to the global variable?"
   ]
  },
  {
   "cell_type": "markdown",
   "id": "7d795cad",
   "metadata": {},
   "source": [
    "when you create a variable inside a function, that variable is local, and can only be used inside that function. To create a global variable inside a function, you can use the global keyword."
   ]
  },
  {
   "cell_type": "markdown",
   "id": "2ec1cff5",
   "metadata": {},
   "source": [
    "#### 10. What is the data type of None?"
   ]
  },
  {
   "cell_type": "markdown",
   "id": "de6475cc",
   "metadata": {},
   "source": [
    "(NoneType)"
   ]
  },
  {
   "cell_type": "markdown",
   "id": "5efeda3a",
   "metadata": {},
   "source": [
    "#### 11. What does the sentence import areallyourpetsnamederic do?"
   ]
  },
  {
   "cell_type": "markdown",
   "id": "ef3dceba",
   "metadata": {},
   "source": [
    "That import statement imports a module named areallyourpetsnamederic. (This isnt a real python module btw.)"
   ]
  },
  {
   "cell_type": "markdown",
   "id": "eedd5013",
   "metadata": {},
   "source": [
    "#### 12. If you had a bacon() feature in a spam module, what would you call it after importing spam?"
   ]
  },
  {
   "cell_type": "markdown",
   "id": "0900ebac",
   "metadata": {},
   "source": [
    "spam.bacon()"
   ]
  },
  {
   "cell_type": "markdown",
   "id": "143e255f",
   "metadata": {},
   "source": [
    "#### 13. What can you do to save a programme from crashing if it encounters an error?\n"
   ]
  },
  {
   "cell_type": "markdown",
   "id": "ef2ca5b3",
   "metadata": {},
   "source": [
    " We can use try except clause to save a program from crashing."
   ]
  },
  {
   "cell_type": "markdown",
   "id": "7518b1ff",
   "metadata": {},
   "source": [
    "#### 14. What is the purpose of the try clause? What is the purpose of the except clause?"
   ]
  },
  {
   "cell_type": "markdown",
   "id": "33749ea3",
   "metadata": {},
   "source": [
    "Try and Except clause are use to handle the errors within our code.\n",
    "try clause checks the code by executing it. if it throws any error then it pass to the except clause if it doesnt throwq any error then execute it.\n",
    "except block execute the code within it when try clause throws any error."
   ]
  },
  {
   "cell_type": "code",
   "execution_count": 26,
   "id": "4fe3678c",
   "metadata": {},
   "outputs": [
    {
     "name": "stdout",
     "output_type": "stream",
     "text": [
      "there is error\n"
     ]
    }
   ],
   "source": [
    "try:\n",
    "     5/0\n",
    "except:\n",
    "     print('there is error')"
   ]
  },
  {
   "cell_type": "code",
   "execution_count": null,
   "id": "1f3a92d8",
   "metadata": {},
   "outputs": [],
   "source": []
  }
 ],
 "metadata": {
  "kernelspec": {
   "display_name": "Python 3 (ipykernel)",
   "language": "python",
   "name": "python3"
  },
  "language_info": {
   "codemirror_mode": {
    "name": "ipython",
    "version": 3
   },
   "file_extension": ".py",
   "mimetype": "text/x-python",
   "name": "python",
   "nbconvert_exporter": "python",
   "pygments_lexer": "ipython3",
   "version": "3.8.10"
  }
 },
 "nbformat": 4,
 "nbformat_minor": 5
}
