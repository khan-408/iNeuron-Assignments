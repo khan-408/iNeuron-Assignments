{
  "nbformat": 4,
  "nbformat_minor": 0,
  "metadata": {
    "colab": {
      "provenance": []
    },
    "kernelspec": {
      "name": "python3",
      "display_name": "Python 3"
    },
    "language_info": {
      "name": "python"
    }
  },
  "cells": [
    {
      "cell_type": "markdown",
      "source": [
        "###1. Make a class called Thing with no contents and print it. Then, create an object called example from this class and also print it. Are the printed values the same or different?\n"
      ],
      "metadata": {
        "id": "6GGO59fPeESG"
      }
    },
    {
      "cell_type": "code",
      "source": [
        "class thing:\n",
        "  pass\n",
        "print(thing)\n",
        "example = thing()\n",
        "print(example)"
      ],
      "metadata": {
        "colab": {
          "base_uri": "https://localhost:8080/"
        },
        "id": "s74P-fgqpoSK",
        "outputId": "66cd5306-6a61-432b-9875-7fbe8c530c5e"
      },
      "execution_count": 1,
      "outputs": [
        {
          "output_type": "stream",
          "name": "stdout",
          "text": [
            "<class '__main__.thing'>\n",
            "<__main__.thing object at 0x7fc036e86470>\n"
          ]
        }
      ]
    },
    {
      "cell_type": "markdown",
      "source": [
        "###2. Create a new class called Thing2 and add the value 'abc' to the letters class attribute. Letters should be printed.\n",
        "\n"
      ],
      "metadata": {
        "id": "Pj_pwpV5eIck"
      }
    },
    {
      "cell_type": "code",
      "source": [
        "class thing2:\n",
        "    letters = 'abc'\n",
        "    \n",
        "\n",
        "print(thing2.letters)"
      ],
      "metadata": {
        "colab": {
          "base_uri": "https://localhost:8080/"
        },
        "id": "YZ7Vs6R7qYEC",
        "outputId": "947732c6-02b5-4139-8baf-76191c5025cd"
      },
      "execution_count": 14,
      "outputs": [
        {
          "output_type": "stream",
          "name": "stdout",
          "text": [
            "abc\n"
          ]
        }
      ]
    },
    {
      "cell_type": "markdown",
      "source": [
        "###3. Make yet another class called, of course, Thing3. This time, assign the value 'xyz' to an instance (object) attribute called letters. Print letters. Do you need to make an object from the class to do this?\n"
      ],
      "metadata": {
        "id": "3wiT40wSeKIp"
      }
    },
    {
      "cell_type": "code",
      "source": [
        "class thing3:\n",
        "  def __init__(self):\n",
        "    self.letters = 'xyz'\n",
        "try:\n",
        "  print('First method has worked')\n",
        "  my_thing = thing3()\n",
        "  print(my_thing.letters)\n",
        "\n",
        "\n",
        "except :\n",
        "  print('Second method has worked')\n",
        "  print(thing3.letters)"
      ],
      "metadata": {
        "colab": {
          "base_uri": "https://localhost:8080/"
        },
        "id": "-06sRry-r7NG",
        "outputId": "5d6909d9-cbac-4a53-8ebf-8e966906c1f6"
      },
      "execution_count": 10,
      "outputs": [
        {
          "output_type": "stream",
          "name": "stdout",
          "text": [
            "First method has worked\n",
            "xyz\n"
          ]
        }
      ]
    },
    {
      "cell_type": "markdown",
      "source": [
        "###4. Create an Element class with the instance attributes name, symbol, and number. Create a class object with the values 'Hydrogen,' 'H,' and 1.\n"
      ],
      "metadata": {
        "id": "X5xwLYdJeLll"
      }
    },
    {
      "cell_type": "code",
      "source": [
        "class elements:\n",
        "  def __init__(self,name,symbol,number):\n",
        "    self.name = name\n",
        "    self.symbol = symbol\n",
        "    self.number = number\n",
        "  \n",
        "ele = elements('Hydrogen','H',1)\n",
        "\n",
        "print(ele.name)\n",
        "print(ele.symbol)\n",
        "print(ele.number)"
      ],
      "metadata": {
        "colab": {
          "base_uri": "https://localhost:8080/"
        },
        "id": "YAtZkS_FuXcW",
        "outputId": "d23d5cb9-d2ae-4365-c611-aa39e54903f3"
      },
      "execution_count": 21,
      "outputs": [
        {
          "output_type": "stream",
          "name": "stdout",
          "text": [
            "Hydrogen\n",
            "H\n",
            "1\n"
          ]
        }
      ]
    },
    {
      "cell_type": "markdown",
      "source": [
        "###5. Make a dictionary with these keys and values: 'name': 'Hydrogen', 'symbol': 'H', 'number': 1. Then, create an object called hydrogen from class Element using this dictionary.\n"
      ],
      "metadata": {
        "id": "3QIln-bJeOEi"
      }
    },
    {
      "cell_type": "code",
      "source": [
        "dict1 = {'name': 'Hydrogen', 'symbol': 'H2', 'number': 11}\n",
        "\n",
        "\n",
        "hydrogen = elements(**dict1)\n",
        "print(hydrogen.name,hydrogen.symbol,hydrogen.number)"
      ],
      "metadata": {
        "colab": {
          "base_uri": "https://localhost:8080/"
        },
        "id": "-vjCFpi3xYS9",
        "outputId": "bdcdfbb7-8f16-4929-c942-fda26415da6e"
      },
      "execution_count": 27,
      "outputs": [
        {
          "output_type": "stream",
          "name": "stdout",
          "text": [
            "Hydrogen H2 11\n"
          ]
        }
      ]
    },
    {
      "cell_type": "markdown",
      "source": [
        "###6. For the Element class, define a method called dump() that prints the values of the object’s attributes (name, symbol, and number). Create the hydrogen object from this new definition and use dump() to print its attributes.\n"
      ],
      "metadata": {
        "id": "BTf7qtitePMK"
      }
    },
    {
      "cell_type": "code",
      "source": [
        "class element:\n",
        "  def __init__(self,name,symbol,number):\n",
        "    self.name = name\n",
        "    self.symbol = symbol\n",
        "    self.number = number\n",
        "\n",
        "  def dump(self):\n",
        "    print(self.name,self.symbol,self.number)"
      ],
      "metadata": {
        "id": "OjNePOySzOQi"
      },
      "execution_count": 44,
      "outputs": []
    },
    {
      "cell_type": "code",
      "source": [
        "hydrogen1 = element('HydrogeN','H',1)\n",
        "hydrogen1.dump()"
      ],
      "metadata": {
        "colab": {
          "base_uri": "https://localhost:8080/"
        },
        "id": "418F-fFWzqPV",
        "outputId": "bd86038c-8663-4c50-9204-c69bacd34712"
      },
      "execution_count": 45,
      "outputs": [
        {
          "output_type": "stream",
          "name": "stdout",
          "text": [
            "HydrogeN H 1\n"
          ]
        }
      ]
    },
    {
      "cell_type": "markdown",
      "source": [
        "###7. Call print(hydrogen). In the definition of Element, change the name of method dump to __str__, create a new hydrogen object, and call print(hydrogen) again.\n"
      ],
      "metadata": {
        "id": "afpho8xKeQWS"
      }
    },
    {
      "cell_type": "code",
      "source": [
        "print(hydrogen1)"
      ],
      "metadata": {
        "colab": {
          "base_uri": "https://localhost:8080/"
        },
        "id": "oUQhndgl08md",
        "outputId": "8ee48663-e0c9-49c1-a92a-c856766a69a4"
      },
      "execution_count": 46,
      "outputs": [
        {
          "output_type": "stream",
          "name": "stdout",
          "text": [
            "<__main__.element object at 0x7fc01e72d990>\n"
          ]
        }
      ]
    },
    {
      "cell_type": "code",
      "source": [
        "class element:\n",
        "  def __init__(self,name,symbol,number):\n",
        "    self.name = name\n",
        "    self.symbol = symbol\n",
        "    self.number = number\n",
        "\n",
        "  def __str__(self):\n",
        "    return f\"{self.name} {self.symbol} {self.number}\"\n",
        "hydrogen2 = element('HYdrogen','H',1)\n"
      ],
      "metadata": {
        "id": "Kukbgugr1H6W"
      },
      "execution_count": 55,
      "outputs": []
    },
    {
      "cell_type": "code",
      "source": [
        "print(hydrogen2)"
      ],
      "metadata": {
        "colab": {
          "base_uri": "https://localhost:8080/"
        },
        "id": "JMtAEnJZ1Na0",
        "outputId": "51bf89bf-ff19-450c-e972-7cab755dfb86"
      },
      "execution_count": 56,
      "outputs": [
        {
          "output_type": "stream",
          "name": "stdout",
          "text": [
            "HYdrogen H 1\n"
          ]
        }
      ]
    },
    {
      "cell_type": "markdown",
      "source": [
        "###8. Modify Element to make the attributes name, symbol, and number private. Define a getter property for each to return its value.\n"
      ],
      "metadata": {
        "id": "ZR84AZwqeR95"
      }
    },
    {
      "cell_type": "code",
      "source": [
        "class elements:\n",
        "  def __init__(self,name,symbol,number):\n",
        "    self.__name = name\n",
        "    self.__symbol = symbol\n",
        "    self.__number = number\n",
        "\n",
        "  @property\n",
        "  def get_name(self):\n",
        "    return self.__name\n",
        "\n",
        "  @property\n",
        "  def get_symbol(self):\n",
        "    return self.__symbol\n",
        "\n",
        "  @property\n",
        "  def get_number(self):\n",
        "    return self.__number\n",
        "\n",
        "\n",
        "\n",
        "hydrogen = elements('HyDrogen','H',1)\n",
        "\n",
        "print(hydrogen.get_name)\n",
        "print(hydrogen.get_symbol)\n",
        "print(hydrogen.get_number)"
      ],
      "metadata": {
        "colab": {
          "base_uri": "https://localhost:8080/"
        },
        "id": "b6L38VHF2Cma",
        "outputId": "d3e9bd15-f9d4-40f3-ea71-b347ac121bff"
      },
      "execution_count": 61,
      "outputs": [
        {
          "output_type": "stream",
          "name": "stdout",
          "text": [
            "HyDrogen\n",
            "H\n",
            "1\n"
          ]
        }
      ]
    },
    {
      "cell_type": "markdown",
      "source": [
        "###9. Define three classes: Bear, Rabbit, and Octothorpe. For each, define only one method: eats(). This should return 'berries' (Bear), 'clover' (Rabbit), or 'campers' (Octothorpe). Create one object from each and print what it eats.\n"
      ],
      "metadata": {
        "id": "C3__S4SEeTC6"
      }
    },
    {
      "cell_type": "code",
      "source": [
        "class Bear:\n",
        "  def eats(self):\n",
        "    print('berries')\n",
        "\n",
        "class Rabbit:\n",
        "  def eats(self):\n",
        "    print('clover')\n",
        "\n",
        "class Octothorpe:\n",
        "  def eats(self):\n",
        "    print('campers')"
      ],
      "metadata": {
        "id": "2rXU42tq4Y5U"
      },
      "execution_count": 71,
      "outputs": []
    },
    {
      "cell_type": "code",
      "source": [
        "bear = Bear()\n",
        "bear.eats()"
      ],
      "metadata": {
        "colab": {
          "base_uri": "https://localhost:8080/"
        },
        "id": "X6yXmoow46Ov",
        "outputId": "f7e8ec3d-3406-4d0a-c607-25e101053a4e"
      },
      "execution_count": 73,
      "outputs": [
        {
          "output_type": "stream",
          "name": "stdout",
          "text": [
            "berries\n"
          ]
        }
      ]
    },
    {
      "cell_type": "code",
      "source": [
        "rabbit = Rabbit()\n",
        "rabbit.eats()"
      ],
      "metadata": {
        "colab": {
          "base_uri": "https://localhost:8080/"
        },
        "id": "Rg-6FoVU58L0",
        "outputId": "2f1cfaec-0d79-48f4-ecf6-31200d9f6b2c"
      },
      "execution_count": 74,
      "outputs": [
        {
          "output_type": "stream",
          "name": "stdout",
          "text": [
            "clover\n"
          ]
        }
      ]
    },
    {
      "cell_type": "code",
      "source": [
        "octothorpe = Octothorpe()\n",
        "octothorpe.eats()"
      ],
      "metadata": {
        "colab": {
          "base_uri": "https://localhost:8080/"
        },
        "id": "dSnO7CK558F5",
        "outputId": "3632bf27-5047-49f8-a4fe-1f64e651942e"
      },
      "execution_count": 77,
      "outputs": [
        {
          "output_type": "stream",
          "name": "stdout",
          "text": [
            "campers\n"
          ]
        }
      ]
    },
    {
      "cell_type": "markdown",
      "source": [
        "###10. Define these classes: Laser, Claw, and SmartPhone. Each has only one method: does(). This returns 'disintegrate' (Laser), 'crush' (Claw), or 'ring' (SmartPhone). Then, define the class Robot that has one instance (object) of each of these. Define a does() method for the Robot that prints what its component objects do.\n"
      ],
      "metadata": {
        "id": "MAVl3nJweUg4"
      }
    },
    {
      "cell_type": "code",
      "source": [
        "class Lasser:\n",
        "  def does(self):\n",
        "    return f'disintegrate'\n",
        "\n",
        "class Claw:\n",
        "  def does(self):\n",
        "    return f'crush'\n",
        "  \n",
        "\n",
        "class SmartPhone:\n",
        "  def does(self):\n",
        "    return f'ring'\n",
        "  \n",
        "\n",
        "class Robot:\n",
        "  def __init__(self):\n",
        "    self.lasser = Lasser()\n",
        "    self.claw = Claw()\n",
        "    self.smartphone = SmartPhone()\n",
        "\n",
        "  def does(self):\n",
        "    print(self.lasser.does(),self.claw.does(),self.smartphone.does())\n",
        "\n",
        "r2 = Robot()\n",
        "\n",
        "r2.does()"
      ],
      "metadata": {
        "colab": {
          "base_uri": "https://localhost:8080/"
        },
        "id": "3jf9Eqsa6SIE",
        "outputId": "bb9c9061-0707-4dcb-9613-1930205a720e"
      },
      "execution_count": 80,
      "outputs": [
        {
          "output_type": "stream",
          "name": "stdout",
          "text": [
            "disintegrate crush ring\n"
          ]
        }
      ]
    },
    {
      "cell_type": "code",
      "source": [],
      "metadata": {
        "id": "qoZMirxq_go-"
      },
      "execution_count": null,
      "outputs": []
    }
  ]
}