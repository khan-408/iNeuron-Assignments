{
 "cells": [
  {
   "cell_type": "markdown",
   "id": "4eaf26fe",
   "metadata": {},
   "source": [
    "#### 1. What exactly is []?"
   ]
  },
  {
   "cell_type": "markdown",
   "id": "788746b2",
   "metadata": {},
   "source": [
    "[] is emplty list. We can append values to it."
   ]
  },
  {
   "cell_type": "markdown",
   "id": "da8abfbb",
   "metadata": {},
   "source": [
    "#### 2. In a list of values stored in a variable called spam, how would you assign the value 'hello' as the third value? (Assume [2, 4, 6, 8, 10] are in spam.)\n",
    "\n"
   ]
  },
  {
   "cell_type": "code",
   "execution_count": 18,
   "id": "022efac6",
   "metadata": {},
   "outputs": [
    {
     "data": {
      "text/plain": [
       "[2, 4, 'hello', 8, 10]"
      ]
     },
     "execution_count": 18,
     "metadata": {},
     "output_type": "execute_result"
    }
   ],
   "source": [
    "spam=[2, 4, 6, 8, 10]\n",
    "spam[2]='hello'\n",
    "spam"
   ]
  },
  {
   "cell_type": "markdown",
   "id": "35b62905",
   "metadata": {},
   "source": [
    "## Let's pretend the spam includes the list ['a', 'b', 'c', 'd'] for the next three queries."
   ]
  },
  {
   "cell_type": "code",
   "execution_count": 52,
   "id": "c1cf8480",
   "metadata": {},
   "outputs": [],
   "source": [
    "spam = ['a', 'b', 'c', 'd']"
   ]
  },
  {
   "cell_type": "markdown",
   "id": "9089867b",
   "metadata": {},
   "source": [
    "#### 3. What is the value of spam[int(int('3' * 2) / 11)]?"
   ]
  },
  {
   "cell_type": "code",
   "execution_count": 20,
   "id": "912ce268",
   "metadata": {},
   "outputs": [
    {
     "data": {
      "text/plain": [
       "'d'"
      ]
     },
     "execution_count": 20,
     "metadata": {},
     "output_type": "execute_result"
    }
   ],
   "source": [
    " spam[int(int('3' * 2) / 11)]"
   ]
  },
  {
   "cell_type": "markdown",
   "id": "207c6bee",
   "metadata": {},
   "source": [
    "#### 4. What is the value of spam[-1]?"
   ]
  },
  {
   "cell_type": "code",
   "execution_count": 21,
   "id": "8530904a",
   "metadata": {},
   "outputs": [
    {
     "data": {
      "text/plain": [
       "'d'"
      ]
     },
     "execution_count": 21,
     "metadata": {},
     "output_type": "execute_result"
    }
   ],
   "source": [
    "spam[-1]"
   ]
  },
  {
   "cell_type": "markdown",
   "id": "1d553731",
   "metadata": {},
   "source": [
    "#### 5. What is the value of spam[:2]?"
   ]
  },
  {
   "cell_type": "code",
   "execution_count": 22,
   "id": "462ed9c0",
   "metadata": {},
   "outputs": [
    {
     "data": {
      "text/plain": [
       "['a', 'b']"
      ]
     },
     "execution_count": 22,
     "metadata": {},
     "output_type": "execute_result"
    }
   ],
   "source": [
    "spam[:2]"
   ]
  },
  {
   "cell_type": "markdown",
   "id": "ee3b73f0",
   "metadata": {},
   "source": [
    "## Let's pretend bacon has the list [3.14, 'cat,' 11, 'cat,' True] for the next three questions.\n"
   ]
  },
  {
   "cell_type": "code",
   "execution_count": 53,
   "id": "76ba7098",
   "metadata": {},
   "outputs": [],
   "source": [
    "bacon = [3.14, 'cat', 11, 'cat', True]"
   ]
  },
  {
   "cell_type": "markdown",
   "id": "c334eafe",
   "metadata": {},
   "source": [
    "#### 6. What is the value of bacon.index('cat')?"
   ]
  },
  {
   "cell_type": "code",
   "execution_count": 45,
   "id": "57abe852",
   "metadata": {},
   "outputs": [
    {
     "data": {
      "text/plain": [
       "1"
      ]
     },
     "execution_count": 45,
     "metadata": {},
     "output_type": "execute_result"
    }
   ],
   "source": [
    "bacon.index('cat')"
   ]
  },
  {
   "cell_type": "markdown",
   "id": "50810ac0",
   "metadata": {},
   "source": [
    "#### 7. How does bacon.append(99) change the look of the list value in bacon?"
   ]
  },
  {
   "cell_type": "code",
   "execution_count": 46,
   "id": "63b83cc1",
   "metadata": {},
   "outputs": [
    {
     "data": {
      "text/plain": [
       "[3.14, 'cat', 11, 'cat', True, 99]"
      ]
     },
     "execution_count": 46,
     "metadata": {},
     "output_type": "execute_result"
    }
   ],
   "source": [
    "bacon.append(99)\n",
    "bacon"
   ]
  },
  {
   "cell_type": "markdown",
   "id": "201c3c6d",
   "metadata": {},
   "source": [
    "#### 8. How does bacon.remove('cat') change the look of the list in bacon?"
   ]
  },
  {
   "cell_type": "code",
   "execution_count": 47,
   "id": "bbd9c2e9",
   "metadata": {},
   "outputs": [
    {
     "data": {
      "text/plain": [
       "[3.14, 11, 'cat', True, 99]"
      ]
     },
     "execution_count": 47,
     "metadata": {},
     "output_type": "execute_result"
    }
   ],
   "source": [
    "bacon.remove('cat')\n",
    "bacon"
   ]
  },
  {
   "cell_type": "markdown",
   "id": "f0a96d00",
   "metadata": {},
   "source": [
    "#### 9. What are the list concatenation and list replication operators?"
   ]
  },
  {
   "cell_type": "markdown",
   "id": "325dfa18",
   "metadata": {},
   "source": [
    "list concatenation is the operator which merge the lists.#list concatenation is the operator which merge/joins the lists.\n",
    "and\n",
    "The replication operator * repeats a list a given number of times."
   ]
  },
  {
   "cell_type": "code",
   "execution_count": 51,
   "id": "e5ab056c",
   "metadata": {},
   "outputs": [
    {
     "name": "stdout",
     "output_type": "stream",
     "text": [
      "['a', 'b', 'c', 'd', 3.14, 'cat', 11, 'cat', True]\n",
      "['a', 'b', 'c', 'd', 'a', 'b', 'c', 'd']\n"
     ]
    }
   ],
   "source": [
    "print(spam+bacon) #concatenation\n",
    "spam=spam*2  #replication\n",
    "print(spam)  "
   ]
  },
  {
   "cell_type": "markdown",
   "id": "35512181",
   "metadata": {},
   "source": [
    "#### 10. What is difference between the list methods append() and insert()?"
   ]
  },
  {
   "cell_type": "markdown",
   "id": "2298da11",
   "metadata": {},
   "source": [
    "The difference is that with append, you just add a new entry at the end of the list. With insert(position, new_entry) you can create a new entry exactly in the position you want."
   ]
  },
  {
   "cell_type": "code",
   "execution_count": 54,
   "id": "cfc916b6",
   "metadata": {},
   "outputs": [
    {
     "name": "stdout",
     "output_type": "stream",
     "text": [
      "['a', 'b', 'c', 'd', 'Khan']\n",
      "[3.14, 'cat', 'Khan', 11, 'cat', True]\n"
     ]
    }
   ],
   "source": [
    "spam.append('Khan')\n",
    "print(spam)\n",
    "bacon.insert(2,'Khan')\n",
    "print(bacon)"
   ]
  },
  {
   "cell_type": "markdown",
   "id": "a867be60",
   "metadata": {},
   "source": [
    "#### 11. What are the two methods for removing items from a list?"
   ]
  },
  {
   "cell_type": "markdown",
   "id": "63583494",
   "metadata": {},
   "source": [
    "remove() and pop(index=_) are two builtin function to remove the item."
   ]
  },
  {
   "cell_type": "markdown",
   "id": "f880b4ac",
   "metadata": {},
   "source": [
    "#### v12. Describe how list values and string values are identical."
   ]
  },
  {
   "cell_type": "markdown",
   "id": "7b5d541e",
   "metadata": {},
   "source": [
    "Both are iterable and both are sequence.\n",
    "The similarity between Lists and Strings in Python is that both are sequences. The differences between them are that firstly, Lists are mutable but Strings are immutable. Secondly, elements of a list can be of different types whereas a String only contains characters that are all of String type."
   ]
  },
  {
   "cell_type": "code",
   "execution_count": 59,
   "id": "30a85651",
   "metadata": {},
   "outputs": [
    {
     "name": "stdout",
     "output_type": "stream",
     "text": [
      "g\n",
      "f\n",
      "g\n",
      "d\n",
      "f\n",
      "g\n",
      "f\n",
      "g\n",
      "u\n",
      "___________\n",
      "3.14\n",
      "cat\n",
      "Khan\n",
      "11\n",
      "cat\n",
      "True\n"
     ]
    }
   ],
   "source": [
    "x='gfgdfgfgu'\n",
    "for i in x:\n",
    "    print(i)\n",
    "    \n",
    "print(\"___________\")\n",
    "for i in bacon:\n",
    "    print(i)"
   ]
  },
  {
   "cell_type": "markdown",
   "id": "5322d419",
   "metadata": {},
   "source": [
    "#### 13. What's the difference between tuples and lists?"
   ]
  },
  {
   "cell_type": "markdown",
   "id": "e14d75b2",
   "metadata": {},
   "source": [
    "Tuples are immutable whilst lists are mutable.\n",
    "that means lists are liable to change but tuples are not.\n",
    "\n",
    "An object whose internal state can be changed is mutable. On the other hand, immutable doesn't allow any change in the object once it has been created."
   ]
  },
  {
   "cell_type": "markdown",
   "id": "cf9b1239",
   "metadata": {},
   "source": [
    "#### 14. How do you type a tuple value that only contains the integer 42?"
   ]
  },
  {
   "cell_type": "code",
   "execution_count": 66,
   "id": "bf840cd8",
   "metadata": {},
   "outputs": [
    {
     "name": "stdout",
     "output_type": "stream",
     "text": [
      "(42,)\n",
      "<class 'tuple'>\n"
     ]
    }
   ],
   "source": [
    "a=(42,)\n",
    "print(a)\n",
    "print(type(a))"
   ]
  },
  {
   "cell_type": "markdown",
   "id": "013a6b41",
   "metadata": {},
   "source": [
    "#### 15. How do you get a list value's tuple form? How do you get a tuple value's list form?"
   ]
  },
  {
   "cell_type": "code",
   "execution_count": 68,
   "id": "c5d858c4",
   "metadata": {},
   "outputs": [
    {
     "name": "stdout",
     "output_type": "stream",
     "text": [
      "[2, 4]\n",
      "(453, 76, 7)\n"
     ]
    }
   ],
   "source": [
    "t=(2,4)\n",
    "t=list(t)\n",
    "print(t)\n",
    "\n",
    "l=[453,76,7]\n",
    "l=tuple(l)\n",
    "print(l)"
   ]
  },
  {
   "cell_type": "markdown",
   "id": "486ca070",
   "metadata": {},
   "source": [
    "#### 16. Variables that \"contain\" list values are not necessarily lists themselves. Instead, what do they contain?"
   ]
  },
  {
   "cell_type": "markdown",
   "id": "457e290b",
   "metadata": {},
   "source": [
    "Variables will contain references to list values rather than list values themselves. But for strings and integer values, variables simply contain the string or integer value. "
   ]
  },
  {
   "cell_type": "markdown",
   "id": "7492a4d0",
   "metadata": {},
   "source": [
    "#### 17.  How do you distinguish between copy.copy() and copy.deepcopy()?"
   ]
  },
  {
   "cell_type": "markdown",
   "id": "552ea57f",
   "metadata": {},
   "source": [
    "The copy.copy() function will do a shallow copy of a list,\n",
    "The copy.deepcopy() function will do a deep copy of a list. The deepcopy() function will copy these inner lists as well."
   ]
  },
  {
   "cell_type": "code",
   "execution_count": 80,
   "id": "80fcf480",
   "metadata": {},
   "outputs": [
    {
     "name": "stdout",
     "output_type": "stream",
     "text": [
      "['a', 'b', 'c', 'd', 'Khan']\n",
      "[3.14, 'cat', 'Khan', 11, 'cat', True]\n"
     ]
    }
   ],
   "source": [
    "print(spam)\n",
    "print(bacon)\n",
    "import copy"
   ]
  },
  {
   "cell_type": "code",
   "execution_count": 87,
   "id": "05b384c0",
   "metadata": {},
   "outputs": [
    {
     "name": "stdout",
     "output_type": "stream",
     "text": [
      "False\n",
      "True\n",
      "False\n",
      "True\n"
     ]
    }
   ],
   "source": [
    "spam1=copy.copy(spam)\n",
    "\n",
    "print (id(spam1) == id(spam))          # False - spam1 is now a new object\n",
    "print (id(spam1[0]) == id(spam[0]))    # True - spam1[0] is the same object as spam[0]\n",
    "\n",
    "#Using a deep copy:\n",
    "\n",
    "spam3 = copy.deepcopy(spam)\n",
    "\n",
    "print (id(spam) == id(spam3))          # False - spam3 is now a new object\n",
    "print (id(spam[0]) == id(spam3[0])  )  # False - spam3[0] is now a new object"
   ]
  }
 ],
 "metadata": {
  "kernelspec": {
   "display_name": "Python 3 (ipykernel)",
   "language": "python",
   "name": "python3"
  },
  "language_info": {
   "codemirror_mode": {
    "name": "ipython",
    "version": 3
   },
   "file_extension": ".py",
   "mimetype": "text/x-python",
   "name": "python",
   "nbconvert_exporter": "python",
   "pygments_lexer": "ipython3",
   "version": "3.8.10"
  }
 },
 "nbformat": 4,
 "nbformat_minor": 5
}
