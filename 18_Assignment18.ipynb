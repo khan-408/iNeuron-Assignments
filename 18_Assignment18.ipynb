{
  "nbformat": 4,
  "nbformat_minor": 0,
  "metadata": {
    "colab": {
      "provenance": []
    },
    "kernelspec": {
      "name": "python3",
      "display_name": "Python 3"
    },
    "language_info": {
      "name": "python"
    }
  },
  "cells": [
    {
      "cell_type": "markdown",
      "source": [
        "###1. Create a zoo.py file first. Define the hours() function, which prints the string 'Open 9-5 daily'. Then, use the interactive interpreter to import the zoo module and call its hours() function.\n",
        "\n"
      ],
      "metadata": {
        "id": "M52uu-G2R4B3"
      }
    },
    {
      "cell_type": "code",
      "source": [
        "import zoo"
      ],
      "metadata": {
        "id": "G3jo7HWnSJf2"
      },
      "execution_count": 1,
      "outputs": []
    },
    {
      "cell_type": "code",
      "source": [
        "zoo.hours()"
      ],
      "metadata": {
        "colab": {
          "base_uri": "https://localhost:8080/"
        },
        "id": "E2B6cQMmWG-Q",
        "outputId": "2de80571-d150-4e4f-cd50-cb208d414fdb"
      },
      "execution_count": 3,
      "outputs": [
        {
          "output_type": "stream",
          "name": "stdout",
          "text": [
            "Open 9-5 daily\n"
          ]
        }
      ]
    },
    {
      "cell_type": "markdown",
      "source": [
        "###2. In the interactive interpreter, import the zoo module as menagerie and call its hours() function.\n"
      ],
      "metadata": {
        "id": "uDQnaXl7R9Ny"
      }
    },
    {
      "cell_type": "code",
      "source": [
        "import zoo as menagerie"
      ],
      "metadata": {
        "id": "oTRafH88WnlM"
      },
      "execution_count": 4,
      "outputs": []
    },
    {
      "cell_type": "code",
      "source": [
        "menagerie.hours()"
      ],
      "metadata": {
        "colab": {
          "base_uri": "https://localhost:8080/"
        },
        "id": "YD9_2WuwXC3N",
        "outputId": "1cf5b852-dfb8-453a-c7e2-5046de307ca9"
      },
      "execution_count": 5,
      "outputs": [
        {
          "output_type": "stream",
          "name": "stdout",
          "text": [
            "Open 9-5 daily\n"
          ]
        }
      ]
    },
    {
      "cell_type": "markdown",
      "source": [
        "###3. Using the interpreter, explicitly import and call the hours() function from zoo.\n"
      ],
      "metadata": {
        "id": "kpbbZg7xR-fj"
      }
    },
    {
      "cell_type": "code",
      "source": [
        "from zoo import hours\n",
        "hours()"
      ],
      "metadata": {
        "colab": {
          "base_uri": "https://localhost:8080/"
        },
        "id": "ciFjfll3XJT-",
        "outputId": "d673800c-86b9-4f3d-b4c3-cbeaf92a11af"
      },
      "execution_count": 6,
      "outputs": [
        {
          "output_type": "stream",
          "name": "stdout",
          "text": [
            "Open 9-5 daily\n"
          ]
        }
      ]
    },
    {
      "cell_type": "markdown",
      "source": [
        "###4. Import the hours() function as info and call it.\n"
      ],
      "metadata": {
        "id": "G3uTwIJVR_f7"
      }
    },
    {
      "cell_type": "code",
      "source": [
        "from zoo import hours as info\n",
        "info()"
      ],
      "metadata": {
        "colab": {
          "base_uri": "https://localhost:8080/"
        },
        "id": "OzGw1iUiYOVU",
        "outputId": "a8913f80-b2a2-43e5-c787-3abec62af1ec"
      },
      "execution_count": 8,
      "outputs": [
        {
          "output_type": "stream",
          "name": "stdout",
          "text": [
            "Open 9-5 daily\n"
          ]
        }
      ]
    },
    {
      "cell_type": "markdown",
      "source": [
        "###5. Create a plain dictionary with the key-value pairs 'a': 1, 'b': 2, and 'c': 3, and print it out.\n"
      ],
      "metadata": {
        "id": "HhTX8qqUSAbK"
      }
    },
    {
      "cell_type": "code",
      "source": [
        "plain_dict = { 'a': 1, 'b': 2,'c': 3}\n",
        "plain_dict"
      ],
      "metadata": {
        "colab": {
          "base_uri": "https://localhost:8080/"
        },
        "id": "9I5z2xTmY0QZ",
        "outputId": "5f4dcc2e-1735-4e7f-b493-d39b5ea70fa4"
      },
      "execution_count": 11,
      "outputs": [
        {
          "output_type": "execute_result",
          "data": {
            "text/plain": [
              "{'a': 1, 'b': 2, 'c': 3}"
            ]
          },
          "metadata": {},
          "execution_count": 11
        }
      ]
    },
    {
      "cell_type": "markdown",
      "source": [
        "###6.Make an OrderedDict called fancy from the same pairs listed in 5 and print it. Did it print in the same order as plain?\n"
      ],
      "metadata": {
        "id": "TZFEYaluSBbj"
      }
    },
    {
      "cell_type": "code",
      "source": [
        "from collections import OrderedDict\n",
        "\n",
        "fancy = OrderedDict({ 'a': 1, 'b': 2,'c': 3})\n",
        "fancy"
      ],
      "metadata": {
        "colab": {
          "base_uri": "https://localhost:8080/"
        },
        "id": "ywYfx7XnZSN_",
        "outputId": "630076c3-903f-4b3c-82b2-004058727f04"
      },
      "execution_count": 12,
      "outputs": [
        {
          "output_type": "execute_result",
          "data": {
            "text/plain": [
              "OrderedDict([('a', 1), ('b', 2), ('c', 3)])"
            ]
          },
          "metadata": {},
          "execution_count": 12
        }
      ]
    },
    {
      "cell_type": "markdown",
      "source": [
        "###7. Make a default dictionary called dict_of_lists and pass it the argument list. Make the list dict_of_lists['a'] and append the value 'something for a' to it in one assignment. Print dict_of_lists['a'].\n"
      ],
      "metadata": {
        "id": "3nQJyattSCRb"
      }
    },
    {
      "cell_type": "code",
      "source": [
        "from collections import defaultdict\n",
        "\n",
        "dict_of_lists = defaultdict(list)"
      ],
      "metadata": {
        "id": "kIPObb1wZ_h_"
      },
      "execution_count": 13,
      "outputs": []
    },
    {
      "cell_type": "code",
      "source": [
        "dict_of_lists['a'].append('something for a')\n",
        "dict_of_lists['a']"
      ],
      "metadata": {
        "colab": {
          "base_uri": "https://localhost:8080/"
        },
        "id": "X9Ks4bmidCC6",
        "outputId": "74d82a63-eb7a-4983-8625-8dd7c221e1e1"
      },
      "execution_count": 14,
      "outputs": [
        {
          "output_type": "execute_result",
          "data": {
            "text/plain": [
              "['something for a']"
            ]
          },
          "metadata": {},
          "execution_count": 14
        }
      ]
    }
  ]
}